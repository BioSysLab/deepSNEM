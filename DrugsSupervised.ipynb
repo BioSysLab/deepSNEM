{
 "cells": [
  {
   "cell_type": "code",
   "execution_count": 3,
   "metadata": {},
   "outputs": [],
   "source": [
    "import numpy as np\n",
    "import pandas as pd\n",
    "import pickle\n",
    "import sys\n",
    "from tqdm.notebook import tqdm\n",
    "import networkx as nx\n",
    "sys.path.append('..')\n",
    "\n",
    "import torch\n",
    "from torch.functional import F\n",
    "import torch.nn as nn\n",
    "\n",
    "from torch_geometric.data import Data, DataLoader, Dataset\n",
    "from torch_geometric.utils import from_networkx, to_networkx, degree, dense_to_sparse\n",
    "from torch_geometric.nn import GATConv, GCNConv, global_add_pool, PNAConv, BatchNorm, CGConv, global_max_pool\n",
    "from torch_geometric.utils.metric import accuracy, precision, f1_score\n",
    "import torch_geometric.transforms as T\n",
    "\n",
    "from models.graph_transformer.euclidean_graph_transformer import GraphTransformerEncoder\n",
    "\n",
    "from sklearn.model_selection import train_test_split\n",
    "from sklearn.preprocessing import LabelEncoder, OneHotEncoder\n",
    "from sklearn.metrics import roc_auc_score, accuracy_score, average_precision_score, precision_score\n",
    "\n",
    "from utils.data_gen import load_prot_embs, to_categorical, wcsv2graph, SNLDataset\n",
    "from utils.chem import rdkit2graph, tensorise_smiles\n",
    "\n",
    "dev = torch.device('cuda:0')"
   ]
  },
  {
   "cell_type": "markdown",
   "metadata": {},
   "source": [
    "# Protein Loading and Preprocessing"
   ]
  },
  {
   "cell_type": "code",
   "execution_count": 25,
   "metadata": {},
   "outputs": [],
   "source": [
    "prot_embs, global_dict = load_prot_embs(1024, norm=False)"
   ]
  },
  {
   "cell_type": "code",
   "execution_count": 5,
   "metadata": {},
   "outputs": [],
   "source": [
    "labelled_ugraphs = pd.read_csv('../snac_data/graph_classification_all.csv')\n",
    "weighted_df = pd.read_csv('../snac_data/file_info_weighted.csv')\n",
    "\n",
    "val_set_1 = pd.read_csv('../snac_data/splits/val_set_1.csv')\n",
    "val_set_2 = pd.read_csv('../snac_data/splits/val_set_2.csv')\n",
    "val_set_3 = pd.read_csv('../snac_data/splits/val_set_3.csv')\n",
    "val_set_4 = pd.read_csv('../snac_data/splits/val_set_4.csv')\n",
    "test_set = pd.read_csv('../snac_data/splits/test_set.csv')"
   ]
  },
  {
   "cell_type": "code",
   "execution_count": 6,
   "metadata": {},
   "outputs": [],
   "source": [
    "wsample_path = weighted_df.files_weighted.to_numpy()[200]\n",
    "data = wcsv2graph(wsample_path, global_dict, [0,0,1])"
   ]
  },
  {
   "cell_type": "code",
   "execution_count": 7,
   "metadata": {},
   "outputs": [
    {
     "data": {
      "application/vnd.jupyter.widget-view+json": {
       "model_id": "375f2103383a4c79b06f06be5d61f980",
       "version_major": 2,
       "version_minor": 0
      },
      "text/plain": [
       "HBox(children=(FloatProgress(value=0.0, max=1031.0), HTML(value='')))"
      ]
     },
     "metadata": {},
     "output_type": "display_data"
    },
    {
     "name": "stdout",
     "output_type": "stream",
     "text": [
      "\n"
     ]
    }
   ],
   "source": [
    "usm = pd.DataFrame(labelled_ugraphs.groupby('sig_id').moa_v1.unique()).reset_index()\n",
    "usm_corr = np.array([np.array(i) for i in usm.moa_v1.to_numpy()]).reshape(-1)\n",
    "usm['moa_v1'] = usm_corr\n",
    "\n",
    "X_df = pd.merge(weighted_df, usm, on='sig_id')\n",
    "val_df =  pd.merge(X_df, val_set_1, on='sig_id')\n",
    "test_df = pd.merge(X_df, test_set, on='sig_id')\n",
    "\n",
    "for sig in tqdm(test_set.sig_id):\n",
    "    X_df = X_df[X_df['sig_id'] != sig]"
   ]
  },
  {
   "cell_type": "code",
   "execution_count": 28,
   "metadata": {},
   "outputs": [],
   "source": [
    "go_term_embs = 'data/prot_embeddings/linear_corex_embeddings/lc_go_term_embeddings/lc_go_term_embeddings_512.pkl'\n",
    "with open(go_term_embs, 'rb') as f:\n",
    "    go = pickle.load(f)\n",
    "\n",
    "go_dict = {}\n",
    "for key, val in enumerate(global_dict):\n",
    "    go_dict[val] = go[key]\n",
    "    \n",
    "with open('lc_go_term_embeddings_dict_512.pkl')"
   ]
  },
  {
   "cell_type": "code",
   "execution_count": 31,
   "metadata": {},
   "outputs": [
    {
     "data": {
      "text/plain": [
       "array([-7.60884693e-01,  1.80524665e+00,  1.13501591e+00,  1.18564193e+00,\n",
       "        2.44173725e+00, -1.46597033e+00,  4.23526984e-01, -5.72930233e-01,\n",
       "        3.94936829e-01, -4.38513128e-01,  4.33022769e-01, -4.20458790e-01,\n",
       "       -2.72976881e-01, -4.72269544e-01,  3.89367189e-01,  2.86153902e+00,\n",
       "        3.84398841e-01, -9.01248118e-01,  4.25469953e-01,  4.37049604e-01,\n",
       "       -3.27279173e-01,  5.47786491e-01,  1.36800549e+00, -1.31152298e+00,\n",
       "       -3.81891082e-01,  2.64487422e+00,  2.09401596e+00, -1.30008257e+00,\n",
       "        2.37439454e+00,  1.67923779e+00, -1.64125419e+00, -4.45740023e-01,\n",
       "        3.60919098e-01, -3.56115649e-01, -1.00301285e+00, -6.85417746e-01,\n",
       "        2.30456354e+00, -9.95675683e-01, -1.38919998e+00,  1.20903946e+00,\n",
       "       -6.36115858e-01,  1.05944141e+00,  8.39725573e-01,  8.62139958e-01,\n",
       "        3.52111686e-01,  1.10302257e+00, -4.19369271e-01, -9.81145093e-01,\n",
       "       -1.50181929e-01,  9.69431984e-01, -9.52196105e-01, -7.85252836e-01,\n",
       "       -3.50080372e-01,  7.03592918e-01, -2.60176769e-01, -1.22613469e+00,\n",
       "       -7.51393463e-01, -1.04963691e+00,  1.39152107e+00,  1.90404937e+00,\n",
       "       -9.71751965e-01, -9.10548043e-01, -1.14087719e+00,  1.77539884e+00,\n",
       "       -3.43694128e-01, -2.07547620e+00, -6.83851749e-01,  2.09500903e-01,\n",
       "        1.41886299e+00,  8.17248206e-01,  7.37514442e-01, -1.04970197e+00,\n",
       "       -6.32504251e-01, -1.03777160e+00, -8.03695735e-01,  4.06995960e-01,\n",
       "        5.35910210e-01,  9.70041635e-01,  1.19361631e+00, -9.37423404e-02,\n",
       "       -7.91403508e-01, -1.38334099e+00, -4.14144891e-01, -7.94857407e-01,\n",
       "        5.81870462e-01,  1.53065198e+00, -9.54145228e-01, -1.20664938e+00,\n",
       "        6.25702075e-01,  8.52069611e-01,  8.99490474e-01, -1.34591544e+00,\n",
       "       -4.17675225e-01, -8.92951552e-01,  1.97786131e+00,  4.63926059e-01,\n",
       "        3.63171990e-01, -3.32384247e-01,  4.60472171e-01,  4.30563515e-01,\n",
       "        2.72488473e+00, -1.69833823e-01, -5.26361081e-01,  8.33842265e-01,\n",
       "       -2.02054525e+00, -2.60250766e+00,  3.22697616e-01,  7.49646527e-01,\n",
       "        4.69460851e-01,  3.79399401e-01,  2.05998338e+00,  1.10383934e-01,\n",
       "       -9.17855624e-01, -4.36440940e-01,  1.08706546e+00,  1.50815618e+00,\n",
       "       -1.73701906e+00,  3.75281326e-01, -4.70308996e-02, -2.15319595e+00,\n",
       "        3.77014774e-01,  4.57612884e-01,  2.42714015e-01,  4.96284230e-02,\n",
       "       -6.46793651e-01, -6.46969582e-01, -7.37379715e-01,  2.21832992e+00,\n",
       "       -3.02624663e-04, -6.69050591e-01,  1.12696768e-01,  1.99108740e-01,\n",
       "        3.78621500e-01,  2.52011315e-01,  1.81462239e-01, -8.36022424e-01,\n",
       "       -6.95124775e-01,  1.07669807e-01, -7.00298774e-02, -3.11645231e-01,\n",
       "        6.79727846e-02, -3.49712714e-01,  3.97581751e-01,  3.34305121e-01,\n",
       "       -2.23916267e-01, -4.46360713e-02, -4.47221968e-01, -2.72756946e-01,\n",
       "       -3.71039526e-01,  1.64560048e-01, -2.03308527e-01,  8.96654127e-02,\n",
       "        1.72952493e-01,  3.81586076e-01, -4.30134088e-01, -8.66302348e-02,\n",
       "       -8.26444284e-02,  4.84820378e-01,  2.06181524e+00, -9.55697536e-02,\n",
       "       -1.49162619e-01, -4.49104849e-02, -1.19939357e-01,  7.90145973e-01,\n",
       "       -2.82130156e-02,  2.22725100e-01, -1.72409445e-01,  2.81720695e-02,\n",
       "        5.36221458e-01, -3.74173835e-01,  5.97163749e-02, -6.88373933e-02,\n",
       "        5.29124692e-02, -2.29721215e-01, -4.47620441e-01, -2.87167932e-01,\n",
       "        1.14301898e-01, -3.97191434e-01, -4.28001212e-01, -3.69901014e-01,\n",
       "       -5.52720186e-02,  1.92362702e-01,  2.29573398e-01, -3.47546021e-01,\n",
       "        3.02375768e-01, -3.75308141e-02, -1.92244996e-01, -2.43383556e-01,\n",
       "        1.46626537e-01,  3.86820622e-01,  5.84007536e-02, -2.20712854e-02,\n",
       "       -2.96820131e-01, -4.61982877e-01,  8.83857628e-02,  1.26032032e-02,\n",
       "        6.62154398e-02, -1.33961183e-01,  2.87788532e-01,  1.60673980e-01,\n",
       "       -1.91159537e-02, -3.36666805e-01, -2.06382019e-01, -2.92555161e-02,\n",
       "       -5.78689512e-01, -2.19024798e-01,  2.19558608e-01, -2.84411887e-01,\n",
       "        2.07525133e-01, -9.57992514e-02, -3.15818868e-01,  1.62269025e-01,\n",
       "        1.45046223e-01,  2.73751126e-01,  3.35068903e-01,  4.51824204e-01,\n",
       "        1.86260381e-01,  2.14703432e-01, -4.13741576e-01,  1.37781581e-01,\n",
       "        3.64255058e-02,  4.81613605e-01,  1.40781948e-01, -5.61396069e-01,\n",
       "       -8.49698129e-02,  8.61525643e-02, -3.61793518e-01, -2.14979950e-01,\n",
       "       -1.46311687e-01, -8.55202465e-02,  2.56924550e-01,  1.44916345e-01,\n",
       "        1.43591799e-01,  4.74385447e-01, -5.01001577e-01,  3.83560852e-01,\n",
       "       -6.10408951e-03,  1.47278631e-01,  1.43170950e-01,  8.95006267e-02,\n",
       "        3.22720192e-01, -3.35371854e-01,  1.22092757e-01,  2.02513213e-01,\n",
       "        7.32185180e-03, -2.27400672e-01, -4.05167916e-01, -1.28853104e-01,\n",
       "        1.23805487e-01,  2.18566038e-01, -8.31812294e-02, -2.38986158e-01,\n",
       "        5.54226199e-01, -4.67212472e-01, -6.56630574e-02,  4.28349003e-01,\n",
       "        1.40681212e-01, -2.65078247e-01,  3.14258694e-02,  1.57956474e-02,\n",
       "        3.43779411e-01, -3.45568116e-01, -1.74976613e-01,  4.07421115e-01,\n",
       "       -1.42688013e-01,  4.72005403e-01,  2.57756284e-01, -8.89019671e-03,\n",
       "       -1.59957728e-01,  2.02646689e-01,  5.92943606e-02, -4.26014016e-02,\n",
       "        1.19440692e-01,  1.84188180e-01, -4.66316750e-01,  5.70081492e-02,\n",
       "       -3.59650996e-01,  3.14154824e-02, -4.89507430e-01, -1.04316511e-01,\n",
       "       -4.43378189e-01,  4.10236305e-01, -4.11829396e-01, -1.27985620e-01,\n",
       "       -1.35888382e-01,  5.86094841e-01,  1.55085130e-01, -4.57710382e-01,\n",
       "       -1.97344359e-01, -5.26624002e-02,  4.34618115e-01, -2.70716306e-01,\n",
       "       -4.31901713e-01, -1.23590104e-01,  6.15852190e-02,  2.36442495e-02,\n",
       "       -9.63269190e-02,  3.92338502e-02, -5.71045518e-01, -2.87015338e-01,\n",
       "       -2.42153402e-01,  1.77710872e-01, -9.48969787e-03,  2.78154644e-01,\n",
       "        1.40026671e-01, -2.47858715e-02, -8.03095664e-03,  1.10403404e-01,\n",
       "       -6.69915116e-03,  2.32599698e-01,  1.04556069e-01,  1.68846441e-01,\n",
       "        8.73757541e-02,  2.64738690e-01, -2.10704157e-01, -1.48949084e-01,\n",
       "        7.03908380e-02, -5.43523213e-03,  1.58369650e-01,  2.00518186e-01,\n",
       "       -1.95897642e-01,  6.19523540e-01,  4.50597678e-01, -3.79241255e-01,\n",
       "        5.70884242e-01,  5.69324217e-01,  2.15789631e-01,  2.27753201e-01,\n",
       "       -6.48033307e-02, -4.81918270e-01,  6.82487274e-02,  7.47224793e-02,\n",
       "       -3.99339737e-02, -1.24532109e-01, -3.94705909e-01,  2.64468635e-02,\n",
       "       -4.82021544e-01,  9.79811193e-02,  1.50857806e-01,  1.66379319e-01,\n",
       "        7.78388303e-02,  4.08698971e-01, -2.59977934e-01, -1.94680360e-01,\n",
       "       -2.70235128e-01, -7.57572713e-02,  2.33926457e-01, -7.12429345e-02,\n",
       "       -4.16751488e-01,  5.88389378e-01,  7.05636579e-02, -3.47815871e-02,\n",
       "        2.39119459e-01, -4.23938412e-01,  2.07307110e-01, -4.17191713e-01,\n",
       "        2.78059307e-01, -1.20810575e-01,  2.34825487e-01, -2.12343542e-02,\n",
       "        3.68625938e-01, -1.44009436e-01,  5.49985203e-01, -6.31592887e-01,\n",
       "        2.56260671e-01,  1.29762795e-01,  3.21859432e-01,  1.47970543e-01,\n",
       "        3.61228479e-01,  3.69086395e-02, -1.81183348e-01, -3.61477092e-01,\n",
       "       -4.04436143e-01,  2.42428213e-01,  7.16598877e-02,  1.54943580e-01,\n",
       "       -2.74567973e-01, -2.96106511e-01,  3.13742534e-02,  1.22653448e-01,\n",
       "       -1.75507401e-01,  1.22195314e-01,  6.21291883e-01,  1.56485571e-01,\n",
       "        5.45433745e-01, -5.57565455e-02, -9.63170130e-02, -2.75311465e-01,\n",
       "        2.31208313e-01,  1.73428763e-01,  1.89041178e-02, -4.65571666e-01,\n",
       "       -3.71596753e-01,  2.85102133e-02, -1.25338924e-01,  1.09587308e-01,\n",
       "        2.59335378e-01,  3.73796945e-01,  3.88863558e-01, -2.34039796e-01,\n",
       "        1.02862860e-01,  3.75046894e-01,  5.24690586e-01,  3.07514245e-01,\n",
       "       -2.40455624e-01, -2.10296539e-01, -3.65506276e-01, -4.21708046e-01,\n",
       "        5.09057159e-01,  2.44107038e-02, -1.61425912e-01,  4.04484084e-01,\n",
       "        3.33505139e-01,  1.96345770e-01, -5.00706726e-01, -1.00021307e-01,\n",
       "       -6.66716173e-01, -4.56451367e-01,  1.66112467e-01,  3.74040471e-01,\n",
       "        1.19428707e-01,  6.10745448e-02, -4.59972615e-01, -1.49057158e-01,\n",
       "        5.30945827e-01, -1.27230960e-01,  3.42606242e-01,  2.14371542e-01,\n",
       "        3.30536886e-01, -1.15520356e-01, -1.71532454e-02,  2.91385808e-01,\n",
       "       -2.16767621e-01, -4.25363865e-01, -1.56366091e-01,  2.49570847e-01,\n",
       "        1.53363027e-02, -1.77245523e-01,  4.57450634e-01, -4.91022523e-01,\n",
       "        2.41923665e-02,  3.17289430e-01,  1.59317216e-01,  1.22635401e-01,\n",
       "        2.40301369e-01, -8.13614190e-03, -2.37150591e-01, -1.48453827e-01,\n",
       "       -1.77728756e-01,  5.04614248e-02, -5.27777041e-02, -4.81376538e-01,\n",
       "       -3.93949393e-01,  1.01061078e-01,  7.54693254e-02, -2.19388169e-01,\n",
       "        1.14914228e-01,  2.01657138e-01,  4.26712824e-01, -1.42221333e-01,\n",
       "        1.24693831e-01, -2.55412970e-02, -2.54681689e-01,  1.91516674e-01,\n",
       "        2.05492666e-01,  9.27547884e-02,  1.29147324e-02, -1.37521929e-01,\n",
       "       -3.71461153e-01,  1.97009169e-01, -3.79498962e-01, -1.55553999e-01,\n",
       "       -7.46703953e-02,  2.72400467e-01,  1.78321265e-01,  6.09392810e-02,\n",
       "        3.19096509e-01, -4.20659243e-01,  8.09797049e-02, -5.89280833e-02,\n",
       "       -3.66121717e-01, -1.34041590e-01,  6.62612184e-02, -2.42341145e-01,\n",
       "       -2.44102248e-01,  1.57084355e-01, -4.02736823e-02,  1.04870733e-01,\n",
       "        2.07716393e-02, -2.07749738e-01,  3.77561786e-01, -2.26516041e-01,\n",
       "       -2.13642724e-01, -2.31615899e-02, -3.14977463e-01, -7.85408593e-02,\n",
       "       -3.36618426e-02,  9.04855080e-03,  2.16120739e-01, -3.39633465e-02,\n",
       "       -2.16865208e-01, -2.43113945e-01,  1.50962549e-01,  3.11735617e-01,\n",
       "       -2.08700045e-01,  3.64014959e-02,  1.98468308e-01, -2.29042997e-01,\n",
       "        1.00565816e-01,  2.31163528e-01,  2.28382854e-02, -2.56640363e-01])"
      ]
     },
     "execution_count": 31,
     "metadata": {},
     "output_type": "execute_result"
    }
   ],
   "source": [
    "go_dict['LCK']"
   ]
  },
  {
   "cell_type": "code",
   "execution_count": 83,
   "metadata": {},
   "outputs": [],
   "source": [
    "X_train, y_train = X_df.files_weighted.to_numpy(), X_df.moa_v1.to_numpy()\n",
    "X_val, y_val = val_df.files_weighted.to_numpy(), val_df.moa_v1_x.to_numpy()\n",
    "X_test, y_test = test_df.files_weighted.to_numpy(), test_df.moa_v1_x.to_numpy()\n",
    "\n",
    "X_train_drugs = X_df.rdkit.to_numpy()\n",
    "X_val_drugs = val_df.rdkit.to_numpy()\n",
    "X_test_drugs = val_df.rdkit.to_numpy()\n",
    "\n",
    "le = OneHotEncoder()\n",
    "y = np.concatenate([y_train, y_val, y_test])\n",
    "le = le.fit(y.reshape(-1,1))\n",
    "y_train = le.transform(y_train.reshape(len(y_train),-1)).toarray()\n",
    "y_val = le.transform(y_val.reshape(len(y_val),-1)).toarray()\n",
    "y_test = le.transform(y_test.reshape(len(y_test), -1)).toarray()\n",
    "\n",
    "train_data = SNLDataset(X_train, y_train, global_dict)\n",
    "val_data = SNLDataset(X_val, y_val, global_dict)\n",
    "test_data = SNLDataset(X_test, y_test, global_dict)\n",
    "\n",
    "train_loader = DataLoader(train_data, batch_size=1, num_workers=12, shuffle=True)\n",
    "val_loader = DataLoader(val_data, batch_size=1, num_workers=12, shuffle=True)\n",
    "test_loader = DataLoader(test_data, batch_size=1, num_workers=12)"
   ]
  },
  {
   "cell_type": "markdown",
   "metadata": {},
   "source": [
    "# Drugs Loading and Preprocessing"
   ]
  },
  {
   "cell_type": "code",
   "execution_count": 10,
   "metadata": {},
   "outputs": [],
   "source": [
    "try:\n",
    "    from rdkit import Chem\n",
    "except ImportError:\n",
    "    Chem = None\n",
    "\n",
    "x_map = {\n",
    "    'atomic_num':\n",
    "    list(range(0, 119)),\n",
    "    'chirality': [\n",
    "        'CHI_UNSPECIFIED',\n",
    "        'CHI_TETRAHEDRAL_CW',\n",
    "        'CHI_TETRAHEDRAL_CCW',\n",
    "        'CHI_OTHER',\n",
    "    ],\n",
    "    'degree':\n",
    "    list(range(0, 11)),\n",
    "    'formal_charge':\n",
    "    list(range(-5, 7)),\n",
    "    'num_hs':\n",
    "    list(range(0, 9)),\n",
    "    'num_radical_electrons':\n",
    "    list(range(0, 5)),\n",
    "    'hybridization': [\n",
    "        'UNSPECIFIED',\n",
    "        'S',\n",
    "        'SP',\n",
    "        'SP2',\n",
    "        'SP3',\n",
    "        'SP3D',\n",
    "        'SP3D2',\n",
    "        'OTHER',\n",
    "    ],\n",
    "    'is_aromatic': [False, True],\n",
    "    'is_in_ring': [False, True],\n",
    "}\n",
    "\n",
    "e_map = {\n",
    "    'bond_type': [\n",
    "        'misc',\n",
    "        'SINGLE',\n",
    "        'DOUBLE',\n",
    "        'TRIPLE',\n",
    "        'AROMATIC',\n",
    "    ],\n",
    "    'stereo': [\n",
    "        'STEREONONE',\n",
    "        'STEREOZ',\n",
    "        'STEREOE',\n",
    "        'STEREOCIS',\n",
    "        'STEREOTRANS',\n",
    "        'STEREOANY',\n",
    "    ],\n",
    "    'is_conjugated': [False, True],\n",
    "}"
   ]
  },
  {
   "cell_type": "code",
   "execution_count": 14,
   "metadata": {},
   "outputs": [
    {
     "data": {
      "text/plain": [
       "'Brc1c(NC2=NCCN2)ccc2nccnc12'"
      ]
     },
     "execution_count": 14,
     "metadata": {},
     "output_type": "execute_result"
    }
   ],
   "source": [
    "mol_sample = weighted_df.rdkit[200]\n",
    "mol_sample"
   ]
  },
  {
   "cell_type": "code",
   "execution_count": 96,
   "metadata": {},
   "outputs": [],
   "source": [
    "def deg_distr(data):\n",
    "    deg = torch.zeros(5, dtype=torch.long)\n",
    "    d = degree(data.edge_index[1], num_nodes=data.num_nodes, dtype=torch.long)\n",
    "    deg += torch.bincount(d, minlength=deg.numel())\n",
    "    return deg\n",
    "\n",
    "def smiles2graph(smiles):\n",
    "    mol = Chem.MolFromSmiles(smiles)\n",
    "    if mol is None:\n",
    "        pass\n",
    "    \n",
    "    xs = []\n",
    "    for atom in mol.GetAtoms():\n",
    "        x = []\n",
    "        x.append(x_map['atomic_num'].index(atom.GetAtomicNum()))\n",
    "        x.append(x_map['chirality'].index(str(atom.GetChiralTag())))\n",
    "        x.append(x_map['degree'].index(atom.GetTotalDegree()))\n",
    "        x.append(x_map['formal_charge'].index(atom.GetFormalCharge()))\n",
    "        x.append(x_map['num_hs'].index(atom.GetTotalNumHs()))\n",
    "        x.append(x_map['num_radical_electrons'].index(\n",
    "            atom.GetNumRadicalElectrons()))\n",
    "        x.append(x_map['hybridization'].index(\n",
    "            str(atom.GetHybridization())))\n",
    "        x.append(x_map['is_aromatic'].index(atom.GetIsAromatic()))\n",
    "        x.append(x_map['is_in_ring'].index(atom.IsInRing()))\n",
    "        xs.append(x)\n",
    "\n",
    "    x = torch.tensor(xs, dtype=torch.long).view(-1, 9)\n",
    "\n",
    "    edge_indices, edge_attrs = [], []\n",
    "    for bond in mol.GetBonds():\n",
    "        i = bond.GetBeginAtomIdx()\n",
    "        j = bond.GetEndAtomIdx()\n",
    "\n",
    "        e = []\n",
    "        bt = torch.eye(5)[e_map['bond_type'].index(str(bond.GetBondType()))].tolist()\n",
    "        e = bt\n",
    "        e.append(e_map['stereo'].index(str(bond.GetStereo())))\n",
    "        e.append(e_map['is_conjugated'].index(bond.GetIsConjugated()))\n",
    "\n",
    "        edge_indices += [[i, j], [j, i]]\n",
    "        edge_attrs += [e, e]\n",
    "\n",
    "    edge_index = torch.tensor(edge_indices)\n",
    "    edge_index = edge_index.t().to(torch.long).view(2, -1)\n",
    "    edge_attr = torch.tensor(edge_attrs, dtype=torch.long).view(-1,7)\n",
    "    \n",
    "    if edge_index.numel() > 0:\n",
    "            perm = (edge_index[0] * x.size(0) + edge_index[1]).argsort()\n",
    "            edge_index, edge_attr = edge_index[:, perm], edge_attr[perm]\n",
    "    \n",
    "    return Data(x=x, edge_attr=edge_attr, edge_index=edge_index)"
   ]
  },
  {
   "cell_type": "code",
   "execution_count": 97,
   "metadata": {},
   "outputs": [],
   "source": [
    "class NetNDrugs(Dataset):\n",
    "    def __init__(self, fnames, rdkit,  y, global_dict):\n",
    "        super(NetNDrugs, self).__init__()\n",
    "        self.fnames = fnames\n",
    "        self.gd = global_dict\n",
    "        self.y = y\n",
    "        self.rdkit = rdkit\n",
    "        \n",
    "    def len(self):\n",
    "        return len(self.fnames)\n",
    "        \n",
    "    def get(self, idx):\n",
    "        graph = wcsv2graph(self.fnames[idx], self.gd, self.y[idx])\n",
    "        drug = smiles2graph(self.rdkit[idx])\n",
    "        return graph, drug"
   ]
  },
  {
   "cell_type": "code",
   "execution_count": 101,
   "metadata": {},
   "outputs": [],
   "source": [
    "train_data = NetNDrugs(X_train, X_train_drugs, y_train, global_dict)\n",
    "val_data = NetNDrugs(X_val, X_val_drugs, y_val, global_dict)\n",
    "test_data = NetNDrugs(X_test, X_test_drugs, y_test, global_dict)"
   ]
  },
  {
   "cell_type": "code",
   "execution_count": 104,
   "metadata": {},
   "outputs": [
    {
     "data": {
      "text/plain": [
       "NetNDrugs(1031)"
      ]
     },
     "execution_count": 104,
     "metadata": {},
     "output_type": "execute_result"
    }
   ],
   "source": [
    "test_data"
   ]
  },
  {
   "cell_type": "code",
   "execution_count": null,
   "metadata": {},
   "outputs": [],
   "source": []
  }
 ],
 "metadata": {
  "kernelspec": {
   "display_name": "Python 3.7.1 64-bit ('torch': conda)",
   "language": "python",
   "name": "python37164bittorchconda400f3b5524f54409b045df0fcc1fa418"
  },
  "language_info": {
   "codemirror_mode": {
    "name": "ipython",
    "version": 3
   },
   "file_extension": ".py",
   "mimetype": "text/x-python",
   "name": "python",
   "nbconvert_exporter": "python",
   "pygments_lexer": "ipython3",
   "version": "3.7.9"
  }
 },
 "nbformat": 4,
 "nbformat_minor": 4
}
