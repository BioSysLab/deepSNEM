{
 "cells": [
  {
   "cell_type": "code",
   "execution_count": 1,
   "metadata": {},
   "outputs": [
    {
     "data": {
      "text/plain": [
       "True"
      ]
     },
     "execution_count": 1,
     "metadata": {},
     "output_type": "execute_result"
    }
   ],
   "source": [
    "import numpy as np\n",
    "import pandas as pd\n",
    "import pickle\n",
    "import math\n",
    "import sys\n",
    "sys.path.append('..')\n",
    "\n",
    "import torch\n",
    "import torch.nn as nn\n",
    "from torch.functional import F\n",
    "\n",
    "import torch_geometric\n",
    "from torch_geometric.data import Data, DataLoader, Dataset\n",
    "from torch_geometric.utils import add_self_loops, degree, to_dense_adj,remove_self_loops, to_networkx\n",
    "from torch_geometric.nn import Set2Set\n",
    "from torch_sparse import SparseTensor\n",
    "\n",
    "import networkx as nx\n",
    "from sklearn.model_selection import train_test_split\n",
    "from sklearn.preprocessing import Normalizer, LabelEncoder, OneHotEncoder\n",
    "from sklearn.metrics import accuracy_score, roc_auc_score\n",
    "from tqdm.notebook import tqdm\n",
    "\n",
    "from models.graph_transformer.euclidean_graph_transformer import GraphTransformerEncoder\n",
    "from models.deep_graph_infomax.infomax import SNInfomax\n",
    "from models.graph_transformer.autoencoder_base import DeepSNEM, LinearDecoder, FermiDiracDecoder\n",
    "from utils.data_gen import load_prot_embs, wcsv2graph, load_prot_embs_go, SNDatasetInfomax, ucsv2graph_infomax\n",
    "\n",
    "import re\n",
    "import gc\n",
    "\n",
    "torch.cuda.empty_cache()\n",
    "torch.backends.cudnn.benchmark = True\n",
    "torch.cuda.is_available()"
   ]
  },
  {
   "cell_type": "markdown",
   "metadata": {},
   "source": [
    "# Load a sample graph negative_sampling"
   ]
  },
  {
   "cell_type": "code",
   "execution_count": 2,
   "metadata": {},
   "outputs": [],
   "source": [
    "unique_prots = 'data/prot_embeddings/new_features/proteins.csv'\n",
    "unique_df = pd.read_csv(unique_prots)\n",
    "global_dict = {}\n",
    "\n",
    "for idx, prot in enumerate(unique_df.proteins.to_numpy()):\n",
    "    global_dict[prot] = idx"
   ]
  },
  {
   "cell_type": "code",
   "execution_count": 3,
   "metadata": {},
   "outputs": [],
   "source": [
    "unweighted_fnames = 'data/graph_info_df/samples_all.csv'\n",
    "u_fnames_all = pd.read_csv(unweighted_fnames).drop('Unnamed: 0', axis=1)\n",
    "u_fnames_all.columns = ['files_combined']\n",
    "u_path_list = u_fnames_all.files_combined.to_numpy()\n",
    "usample = u_path_list[80]\n",
    "\n",
    "unweighted_total = '../snac_data/file_info.csv'\n",
    "u_total = pd.read_csv(unweighted_total)\n",
    "\n",
    "moa_fnames = '../snac_data/graph_classification_all.csv'\n",
    "moa_fnames = pd.read_csv(moa_fnames)\n",
    "\n",
    "mapping = '../snac_data/sig_mapping.csv'\n",
    "mapping = pd.read_csv(mapping)"
   ]
  },
  {
   "cell_type": "markdown",
   "metadata": {},
   "source": [
    "# Create the appropriate data loader"
   ]
  },
  {
   "cell_type": "code",
   "execution_count": 4,
   "metadata": {},
   "outputs": [],
   "source": [
    "u_fnames = pd.read_csv('data/graph_info_df/full_dataset.csv')\n",
    "oh = OneHotEncoder()\n",
    "u_path_list = u_fnames.files_combined.to_numpy()\n",
    "labels = u_fnames.sigs_g.to_numpy().reshape(-1,1)\n",
    "labels = oh.fit_transform(labels).toarray()\n",
    "\n",
    "samples_all = 'data/graph_info_df/samples_all.csv'\n",
    "samples_all = pd.read_csv(samples_all)\n",
    "u_path_list = samples_all.path_list.values\n",
    "\n",
    "train_data = SNDatasetInfomax(u_path_list, global_dict)\n",
    "\n",
    "u_loader = DataLoader(train_data, batch_size=16, num_workers=12, shuffle=False)"
   ]
  },
  {
   "cell_type": "markdown",
   "metadata": {},
   "source": [
    "# Path Transformer"
   ]
  },
  {
   "cell_type": "code",
   "execution_count": 19,
   "metadata": {},
   "outputs": [
    {
     "data": {
      "text/plain": [
       "[['Perturbation', 'PTPN2', 'FYN', 'MAPK14', 'PPP2CA', 'PRKCD', 'TP53', 'TP73'],\n",
       " ['Perturbation', 'PTPN2', 'FYN', 'MAPK14', 'PPP2CA', 'PRKCD', 'TP73'],\n",
       " ['Perturbation', 'PTPN2', 'FYN', 'MAPK14', 'PPP2CA', 'MAPK1', 'TP53', 'TP73'],\n",
       " ['Perturbation',\n",
       "  'PTPN2',\n",
       "  'FYN',\n",
       "  'MAPK14',\n",
       "  'PPP2CA',\n",
       "  'MAPK1',\n",
       "  'CSNK2A1',\n",
       "  'TP53',\n",
       "  'TP73'],\n",
       " ['Perturbation', 'AMOT', 'YAP1', 'TP73']]"
      ]
     },
     "execution_count": 19,
     "metadata": {},
     "output_type": "execute_result"
    }
   ],
   "source": [
    "sample = u_path_list[0]\n",
    "data = ucsv2graph_infomax(sample, global_dict)\n",
    "\n",
    "def path_trans(fname, global_dict):\n",
    "    sample = pd.read_csv('../snac_data/' + fname)\n",
    "    \n",
    "    G = nx.from_pandas_edgelist(sample, source='node1', target='node2',\n",
    "                               edge_attr=['sign'], create_using=nx.DiGraph())\n",
    "    \n",
    "    G, paths = get_paths(G)\n",
    "    return G, paths\n",
    "\n",
    "def get_paths(G):\n",
    "    roots = [n for n in G.nodes() if G.in_degree(n) == 0]\n",
    "    leaves = [n for n in G.nodes() if G.out_degree(n) == 0]\n",
    "    if 'Perturbation' not in roots:\n",
    "        G.add_node('Perturbation')\n",
    "        for r in roots:\n",
    "            e = ('Perturbation', r)\n",
    "            G.add_edge(*e)                \n",
    "    paths = []\n",
    "    for l in leaves:\n",
    "        paths.append(list(nx.all_simple_paths(G, source='Perturbation', target=l)))\n",
    "    return G, paths\n",
    "\n",
    "G, p = path_trans(sample, _)\n",
    "p[1]:"
   ]
  },
  {
   "cell_type": "markdown",
   "metadata": {},
   "source": [
    "# Test the Graph Transformer"
   ]
  },
  {
   "cell_type": "code",
   "execution_count": 5,
   "metadata": {},
   "outputs": [],
   "source": [
    "dev = torch.device('cuda')\n",
    "\n",
    "SIZE = 512\n",
    "EMB_DIM = 512\n",
    "\n",
    "prot_embs = load_prot_embs_go(512, norm=False)\n",
    "summarizer = Set2Set(512, 3)\n",
    "enc = GraphTransformerEncoder(n_layers=1, n_heads=4, n_hid=512, \n",
    "                            pretrained_weights=prot_embs[0], summarizer=None).to(dev)\n",
    "\n",
    "model = SNInfomax(hidden_channels=512, encoder=enc,\n",
    "                                     summary=Set2Set(512, 3), semi=False).to(dev)"
   ]
  },
  {
   "cell_type": "code",
   "execution_count": 29,
   "metadata": {},
   "outputs": [
    {
     "data": {
      "text/plain": [
       "<All keys matched successfully>"
      ]
     },
     "execution_count": 29,
     "metadata": {},
     "output_type": "execute_result"
    }
   ],
   "source": [
    "model.load_state_dict(torch.load('embeddings/deep_graph_infomax/unsupervised/DGI_JSD_512_random_uniform_un.pt'))"
   ]
  },
  {
   "cell_type": "code",
   "execution_count": 30,
   "metadata": {},
   "outputs": [],
   "source": [
    "@torch.no_grad()\n",
    "def emb_csv(model, loader):\n",
    "    model.eval()\n",
    "    embeddings = np.zeros((len(u_path_list), 1024))\n",
    "    \n",
    "    idx=0\n",
    "    for graph in tqdm(loader):\n",
    "        bs = graph.batch.max() + 1\n",
    "        s = model.encoder(graph.to(dev))\n",
    "        embeddings[idx:idx+bs] = model.summary(s, graph.batch).squeeze().cpu().numpy()\n",
    "        idx = idx + bs\n",
    "        \n",
    "    return embeddings"
   ]
  },
  {
   "cell_type": "code",
   "execution_count": 31,
   "metadata": {
    "tags": []
   },
   "outputs": [
    {
     "data": {
      "application/vnd.jupyter.widget-view+json": {
       "model_id": "ce01208c5d3c4e2e9e2eb3d2f3bcb8f1",
       "version_major": 2,
       "version_minor": 0
      },
      "text/plain": [
       "HBox(children=(FloatProgress(value=0.0, max=4324.0), HTML(value='')))"
      ]
     },
     "metadata": {},
     "output_type": "display_data"
    },
    {
     "name": "stdout",
     "output_type": "stream",
     "text": [
      "\n"
     ]
    }
   ],
   "source": [
    "embs = emb_csv(model, u_loader)"
   ]
  },
  {
   "cell_type": "code",
   "execution_count": 32,
   "metadata": {},
   "outputs": [],
   "source": [
    "upl_f = lambda x : re.sub('graphs_combined/','', x)\n",
    "upl_f_csv = lambda x : re.sub('.csv','', x)\n",
    "upl_f_emb = lambda x : re.sub('/graph','_emb',x)\n",
    "\n",
    "upl = [*map(upl_f, u_path_list)]\n",
    "upl = [*map(upl_f_csv, upl)]\n",
    "upl = [*map(upl_f_emb, upl)]\n",
    "upl = np.array(upl)"
   ]
  },
  {
   "cell_type": "code",
   "execution_count": 33,
   "metadata": {},
   "outputs": [],
   "source": [
    "cols = ['emb',*map(str, *[range(1024)])]"
   ]
  },
  {
   "cell_type": "code",
   "execution_count": 34,
   "metadata": {},
   "outputs": [],
   "source": [
    "df1 = pd.DataFrame(upl)\n",
    "df2 = pd.DataFrame(embs)"
   ]
  },
  {
   "cell_type": "code",
   "execution_count": 35,
   "metadata": {},
   "outputs": [],
   "source": [
    "df = pd.concat([df1, df2], axis=1)\n",
    "df.columns = cols"
   ]
  },
  {
   "cell_type": "code",
   "execution_count": 36,
   "metadata": {},
   "outputs": [],
   "source": [
    "df.to_csv('embeddings/deep_graph_infomax/unsupervised/DGI_JSD_512_random_uniform_un.csv')"
   ]
  },
  {
   "cell_type": "code",
   "execution_count": null,
   "metadata": {},
   "outputs": [],
   "source": []
  }
 ],
 "metadata": {
  "kernelspec": {
   "display_name": "Python 3.7.1 64-bit ('torch': conda)",
   "language": "python",
   "name": "python37164bittorchconda400f3b5524f54409b045df0fcc1fa418"
  },
  "language_info": {
   "codemirror_mode": {
    "name": "ipython",
    "version": 3
   },
   "file_extension": ".py",
   "mimetype": "text/x-python",
   "name": "python",
   "nbconvert_exporter": "python",
   "pygments_lexer": "ipython3",
   "version": "3.7.1"
  }
 },
 "nbformat": 4,
 "nbformat_minor": 4
}
