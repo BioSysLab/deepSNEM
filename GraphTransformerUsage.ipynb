{
 "cells": [
  {
   "cell_type": "code",
   "execution_count": 1,
   "metadata": {},
   "outputs": [
    {
     "data": {
      "text/plain": [
       "True"
      ]
     },
     "execution_count": 1,
     "metadata": {},
     "output_type": "execute_result"
    }
   ],
   "source": [
    "import numpy as np\n",
    "import pandas as pd\n",
    "import pickle\n",
    "import math\n",
    "import sys\n",
    "sys.path.append('..')\n",
    "\n",
    "import torch\n",
    "import torch.nn as nn\n",
    "from torch.functional import F\n",
    "\n",
    "import torch_geometric\n",
    "from torch_geometric.data import Data, DataLoader, Dataset\n",
    "from torch_geometric.utils import add_self_loops, degree, to_dense_adj,remove_self_loops\n",
    "import torch_geometric.transforms as T\n",
    "\n",
    "import networkx as nx\n",
    "from sklearn.model_selection import train_test_split\n",
    "from sklearn.preprocessing import Normalizer\n",
    "from sklearn.metrics import accuracy_score, roc_auc_score\n",
    "from tqdm.notebook import tqdm\n",
    "\n",
    "from models.graph_transformer.euclidean_graph_transformer import GraphTransformerEncoder\n",
    "from models.deep_graph_infomax.infomax import DeepGraphInfomax\n",
    "from models.graph_transformer.autoencoder_base import DeepSNEM, LinearDecoder, FermiDiracDecoder\n",
    "from utils.data_gen import SNLDataset, load_prot_embs, wcsv2graph, load_prot_embs_go, SNDatasetInfomax\n",
    "\n",
    "import re\n",
    "import gc\n",
    "\n",
    "torch.cuda.empty_cache()\n",
    "torch.backends.cudnn.benchmark = True\n",
    "torch.cuda.is_available()"
   ]
  },
  {
   "cell_type": "markdown",
   "metadata": {},
   "source": [
    "# Load a sample graph negative_sampling"
   ]
  },
  {
   "cell_type": "code",
   "execution_count": 2,
   "metadata": {},
   "outputs": [],
   "source": [
    "unique_prots = 'data/prot_embeddings/new_features/proteins.csv'\n",
    "unique_df = pd.read_csv(unique_prots)\n",
    "global_dict = {}\n",
    "\n",
    "for idx, prot in enumerate(unique_df.proteins.to_numpy()):\n",
    "    global_dict[prot] = idx"
   ]
  },
  {
   "cell_type": "code",
   "execution_count": 3,
   "metadata": {},
   "outputs": [],
   "source": [
    "unweighted_fnames = 'data/graph_info_df/samples_all.csv'\n",
    "u_fnames = pd.read_csv(unweighted_fnames)\n",
    "u_path_list = u_fnames.path_list.to_numpy()\n",
    "us_cellid = []\n",
    "for us in u_path_list:\n",
    "    x = re.split('_', us)\n",
    "    us_cellid.append(x[2])\n",
    "u_fnames['cell_id'] = us_cellid\n",
    "cellid = np.array(us_cellid)\n",
    "usample = u_path_list[85]\n",
    "\n",
    "unweighted_total = '../snac_data/file_info.csv'\n",
    "u_total = pd.read_csv(unweighted_total)\n",
    "\n",
    "weighted_fnames = '../snac_data/file_info_weighted.csv'\n",
    "w_fnames = pd.read_csv(weighted_fnames)\n",
    "w_path_list = w_fnames.files_weighted.to_numpy()\n",
    "wsample = w_path_list[2]\n",
    "\n",
    "dup_fnames = 'data/graph_info_df/samples_for_dupl.csv'\n",
    "dup_fnames = pd.read_csv(dup_fnames)"
   ]
  },
  {
   "cell_type": "markdown",
   "metadata": {},
   "source": [
    "# Create the appropriate data loader"
   ]
  },
  {
   "cell_type": "code",
   "execution_count": 4,
   "metadata": {},
   "outputs": [],
   "source": [
    "#X, val = train_test_split(u_path_list, test_size=0.3)\n",
    "\n",
    "X_path = 'data/graph_info_df/all_pairs3_train_graphs.csv'\n",
    "X = pd.read_csv(X_path)\n",
    "X = X.x.to_numpy()\n",
    "\n",
    "val_path = 'data/graph_info_df/val_set_1.csv'\n",
    "val = pd.read_csv(val_path)\n",
    "val = val.graphs.to_numpy()\n",
    "\n",
    "test_path = 'data/graph_info_df/test_set.csv'\n",
    "test = pd.read_csv(test_path)\n",
    "test = test.graphs.to_numpy()\n",
    "\n",
    "samples_all_path = 'data/graph_info_df/samples_all.csv'\n",
    "samples_all = pd.read_csv(samples_all_path)\n",
    "samples_all = samples_all.path_list.to_numpy()\n",
    "\n",
    "pl = w_path_list\n",
    "plu = u_path_list\n",
    "train_loader = SNLDataset(pl, global_dict, np.zeros_like(pl))\n",
    "samples_all_data = SNDatasetInfomax(samples_all, global_dict)\n",
    "\n",
    "train_loader = DataLoader(train_loader, batch_size=1, num_workers=12, pin_memory=True)\n",
    "samples_all_loader = DataLoader(samples_all_data, batch_size=1, num_workers=12)"
   ]
  },
  {
   "cell_type": "markdown",
   "metadata": {},
   "source": [
    "# Test the Graph Transformer"
   ]
  },
  {
   "cell_type": "code",
   "execution_count": 8,
   "metadata": {},
   "outputs": [],
   "source": [
    "SIZE = 512\n",
    "EMB_DIM = 512\n",
    "\n",
    "prot_embs = load_prot_embs_go(SIZE, norm=False)\n",
    "summarizer = lambda z, *args, **kwargs: z.mean(dim=0)\n",
    "encoder = GraphTransformerEncoder(n_layers=1, n_heads=4, n_hid=EMB_DIM, pretrained_weights=prot_embs[0], \n",
    "                                  summarizer=summarizer).to(dev)\n",
    "decoder = FermiDiracDecoder(1.0).to(dev)\n",
    "autoenc = DeepSNEM(encoder, decoder).to(dev)"
   ]
  },
  {
   "cell_type": "code",
   "execution_count": 9,
   "metadata": {},
   "outputs": [],
   "source": [
    "dev = torch.device('cuda')\n",
    "#autoenc = DeepSNEM(encoder, decoder).to(dev)\n",
    "\n",
    "prot_embs = load_prot_embs_go(512, norm=False)\n",
    "enc = GraphTransformerEncoder(n_layers=1, n_heads=4, n_hid=512, \n",
    "                            pretrained_weights=prot_embs[0], summarizer=summarizer).to(dev)\n",
    "\n",
    "model = DeepGraphInfomax(hidden_channels=512, encoder=enc,\n",
    "                                     summary= lambda z, *args, **kwargs: z.mean(dim=0)).to(dev)"
   ]
  },
  {
   "cell_type": "code",
   "execution_count": 10,
   "metadata": {},
   "outputs": [
    {
     "data": {
      "text/plain": [
       "<All keys matched successfully>"
      ]
     },
     "execution_count": 10,
     "metadata": {},
     "output_type": "execute_result"
    }
   ],
   "source": [
    "model.load_state_dict(torch.load('embeddings/deep_graph_infomax/GO_dgi_512_tl_1_un.pt'))"
   ]
  },
  {
   "cell_type": "code",
   "execution_count": 11,
   "metadata": {},
   "outputs": [],
   "source": [
    "@torch.no_grad()\n",
    "def emb_csv(model, loader):\n",
    "    model.eval()\n",
    "    embeddings = np.zeros((len(samples_all), 512))\n",
    "    \n",
    "    idx = 0\n",
    "    for graph in tqdm(loader):\n",
    "        s = model.encoder(graph.to(dev))\n",
    "        embeddings[idx] = model.encoder.summarize(s).cpu().numpy()\n",
    "        idx += 1\n",
    "        \n",
    "    return embeddings"
   ]
  },
  {
   "cell_type": "code",
   "execution_count": null,
   "metadata": {
    "tags": []
   },
   "outputs": [
    {
     "data": {
      "application/vnd.jupyter.widget-view+json": {
       "model_id": "8c598145cd3f4879bdf83dc438d929cb",
       "version_major": 2,
       "version_minor": 0
      },
      "text/plain": [
       "HBox(children=(FloatProgress(value=0.0, max=69170.0), HTML(value='')))"
      ]
     },
     "metadata": {},
     "output_type": "display_data"
    }
   ],
   "source": [
    "embs = emb_csv(model, samples_all_data)"
   ]
  },
  {
   "cell_type": "code",
   "execution_count": 30,
   "metadata": {},
   "outputs": [],
   "source": [
    "upl_f = lambda x : re.sub('graphs_combined/','', x)\n",
    "upl_f_csv = lambda x : re.sub('.csv','', x)\n",
    "upl_f_emb = lambda x : re.sub('/graph','_emb',x)\n",
    "\n",
    "upl = [*map(upl_f, samples_all)]\n",
    "upl = [*map(upl_f_csv, upl)]\n",
    "upl = [*map(upl_f_emb, upl)]\n",
    "upl = np.array(upl)"
   ]
  },
  {
   "cell_type": "code",
   "execution_count": 117,
   "metadata": {},
   "outputs": [],
   "source": [
    "upl_f = lambda x : re.sub('graphs_weighted/','', x)\n",
    "upl_f_csv = lambda x : re.sub('.csv','', x)\n",
    "upl_f_emb = lambda x : re.sub('/graph','_emb_1',x)\n",
    "\n",
    "upl = [*map(upl_f, w_path_list)]\n",
    "upl = [*map(upl_f_csv, upl)]\n",
    "upl = [*map(upl_f_emb, upl)]\n",
    "upl = np.array(upl)"
   ]
  },
  {
   "cell_type": "code",
   "execution_count": 31,
   "metadata": {},
   "outputs": [],
   "source": [
    "cols = ['emb',*map(str, *[range(512)])]"
   ]
  },
  {
   "cell_type": "code",
   "execution_count": 32,
   "metadata": {},
   "outputs": [],
   "source": [
    "df1 = pd.DataFrame(upl)\n",
    "df2 = pd.DataFrame(embs)"
   ]
  },
  {
   "cell_type": "code",
   "execution_count": 33,
   "metadata": {},
   "outputs": [],
   "source": [
    "df = pd.concat([df1, df2], axis=1)\n",
    "df.columns = cols"
   ]
  },
  {
   "cell_type": "code",
   "execution_count": null,
   "metadata": {},
   "outputs": [],
   "source": [
    "#df.to_csv('embeddings/autoencoder_graph/gt_1024_tl_1_leaky_relu_sum.csv')\n",
    "df.to_csv('embeddings/deep_graph_infomax/G_dgi_512_un.csv')"
   ]
  },
  {
   "cell_type": "code",
   "execution_count": null,
   "metadata": {},
   "outputs": [],
   "source": []
  }
 ],
 "metadata": {
  "kernelspec": {
   "display_name": "Python 3.7.1 64-bit ('torch': conda)",
   "language": "python",
   "name": "python37164bittorchconda400f3b5524f54409b045df0fcc1fa418"
  },
  "language_info": {
   "codemirror_mode": {
    "name": "ipython",
    "version": 3
   },
   "file_extension": ".py",
   "mimetype": "text/x-python",
   "name": "python",
   "nbconvert_exporter": "python",
   "pygments_lexer": "ipython3",
   "version": "3.7.9"
  }
 },
 "nbformat": 4,
 "nbformat_minor": 4
}
