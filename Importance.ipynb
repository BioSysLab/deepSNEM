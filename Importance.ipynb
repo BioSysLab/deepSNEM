{
 "cells": [
  {
   "cell_type": "code",
   "execution_count": 1,
   "metadata": {},
   "outputs": [],
   "source": [
    "import numpy as np \n",
    "import pandas as pd\n",
    "import re\n",
    "import os\n",
    "import sys\n",
    "sys.path.append('..')\n",
    "\n",
    "import torch\n",
    "from torch_geometric.data import DataLoader, Dataset\n",
    "from torch_geometric.nn import Set2Set\n",
    "from torch_geometric.utils import from_networkx\n",
    "\n",
    "import networkx as nx\n",
    "from tqdm.notebook import tqdm\n",
    "\n",
    "from models.graph_transformer.euclidean_graph_transformer import GraphTransformerEncoder, MultipleOptimizer\n",
    "from models.deep_graph_infomax.infomax import SNInfomax\n",
    "from utils.data_gen import load_prot_embs, to_categorical"
   ]
  },
  {
   "cell_type": "code",
   "execution_count": 2,
   "metadata": {},
   "outputs": [],
   "source": [
    "prot_embs, global_dict = load_prot_embs(512, False)"
   ]
  },
  {
   "cell_type": "code",
   "execution_count": 3,
   "metadata": {},
   "outputs": [],
   "source": [
    "def ucsv2graph_infomax(fname, global_dict, sig_one_hot=None, y=None):\n",
    "    \"\"\"\n",
    "    Unweighted Graph Creator\n",
    "    \"\"\"\n",
    "    sample = pd.read_csv(fname)\n",
    "\n",
    "    G = nx.from_pandas_edgelist(sample,\n",
    "                                source='node1',\n",
    "                                target='node2',\n",
    "                                edge_attr=['sign'],\n",
    "                                create_using=nx.DiGraph())\n",
    "\n",
    "    n1a1 = sample[['node1', 'activity1']]\n",
    "    n1a1.columns = ['node', 'act']\n",
    "\n",
    "    n2a2 = sample[['node2', 'activity2']]\n",
    "    n2a2.columns = ['node', 'act']\n",
    "    na = pd.concat([n1a1, n2a2])\n",
    "    na = na.drop_duplicates('node')\n",
    "    na = na.set_index('node')\n",
    "    na['acts'] = na[['act']].apply(lambda x: np.hstack(x), axis=1)\n",
    "    na = na.drop(['act'], axis=1)['acts'].to_dict()\n",
    "\n",
    "    nx.set_node_attributes(G, global_dict, 'global_idx')\n",
    "    nx.set_node_attributes(G, na, 'acts')\n",
    "\n",
    "    data = from_networkx(G)\n",
    "\n",
    "    data.acts[data.acts < 0] = 0\n",
    "    data.acts = to_categorical(data.acts, 2).reshape(-1, 2).long()\n",
    "\n",
    "    data.sign[data.sign < 0] = 0\n",
    "    data.sign = to_categorical(data.sign, 2).reshape(-1, 2).float()\n",
    "\n",
    "    data.weight = torch.ones(data.num_edges)\n",
    "\n",
    "    if sig_one_hot is not None:\n",
    "        data.sig = torch.tensor(sig_one_hot)\n",
    "        data.node_sig = data.sig.view(1, -1).repeat(data.num_nodes, 1)\n",
    "\n",
    "    if y is not None:\n",
    "        data.y = torch.tensor(y)\n",
    "    # data.seq_mat = torch.add(aps, aps_r)\n",
    "\n",
    "    return data"
   ]
  },
  {
   "cell_type": "code",
   "execution_count": 4,
   "metadata": {},
   "outputs": [],
   "source": [
    "class SNDatasetInfomax(Dataset):\n",
    "    def __init__(self, fnames, global_dict, sig_id_one_hot=None):\n",
    "        super(SNDatasetInfomax, self).__init__()\n",
    "        self.fnames = fnames\n",
    "        self.gd = global_dict\n",
    "        self.sig_id = sig_id_one_hot\n",
    "\n",
    "    def len(self):\n",
    "        return len(self.fnames)\n",
    "\n",
    "    def get(self, idx):\n",
    "        if self.sig_id is not None:\n",
    "            data = ucsv2graph_infomax(self.fnames[idx], self.gd,\n",
    "                                      self.sig_id[idx])\n",
    "        else:\n",
    "            data = ucsv2graph_infomax(self.fnames[idx], self.gd)\n",
    "        return data"
   ]
  },
  {
   "cell_type": "code",
   "execution_count": 5,
   "metadata": {},
   "outputs": [
    {
     "data": {
      "text/plain": [
       "(1986,)"
      ]
     },
     "execution_count": 5,
     "metadata": {},
     "output_type": "execute_result"
    }
   ],
   "source": [
    "uc_path = 'data/use_cases/use_case_graphs.csv'\n",
    "use_cases = pd.read_csv(uc_path).drop('Unnamed: 0', axis=1)\n",
    "use_cases = use_cases.drop(index=[5,40,47])\n",
    "path_list = use_cases.path.to_numpy()\n",
    "path_list.shape"
   ]
  },
  {
   "cell_type": "code",
   "execution_count": 6,
   "metadata": {},
   "outputs": [],
   "source": [
    "test_data = SNDatasetInfomax(path_list, global_dict)\n",
    "loader = DataLoader(test_data, batch_size=1, num_workers = 12)"
   ]
  },
  {
   "cell_type": "code",
   "execution_count": 7,
   "metadata": {},
   "outputs": [],
   "source": [
    "data = ucsv2graph_infomax(path_list[0], global_dict)"
   ]
  },
  {
   "cell_type": "code",
   "execution_count": 416,
   "metadata": {},
   "outputs": [],
   "source": [
    "dev = torch.device('cuda')"
   ]
  },
  {
   "cell_type": "code",
   "execution_count": 417,
   "metadata": {},
   "outputs": [],
   "source": [
    "summarizer = Set2Set(512, 3)\n",
    "encoder = GraphTransformerEncoder(n_layers=1,\n",
    "                                  n_heads=4,\n",
    "                                  n_hid=512,\n",
    "                                  pretrained_weights=prot_embs).to(dev)"
   ]
  },
  {
   "cell_type": "code",
   "execution_count": 418,
   "metadata": {},
   "outputs": [],
   "source": [
    "model = SNInfomax(hidden_channels=512,\n",
    "                  encoder=encoder,\n",
    "                  summary=summarizer,\n",
    "                  semi=False).to(dev)"
   ]
  },
  {
   "cell_type": "code",
   "execution_count": 419,
   "metadata": {},
   "outputs": [
    {
     "data": {
      "text/plain": [
       "<All keys matched successfully>"
      ]
     },
     "execution_count": 419,
     "metadata": {},
     "output_type": "execute_result"
    }
   ],
   "source": [
    "model.load_state_dict(torch.load('embeddings/deep_graph_infomax/unsupervised/DGI_JSD_512_seq_uniform_un.pt'))"
   ]
  },
  {
   "cell_type": "code",
   "execution_count": 427,
   "metadata": {},
   "outputs": [],
   "source": [
    "@torch.no_grad()\n",
    "def emb_csv(model, loader):\n",
    "    counter = 0\n",
    "    \n",
    "    model.eval()\n",
    "    embeddings = np.zeros((len(path_list), 1024))\n",
    "    \n",
    "    idx=0\n",
    "    for graph in tqdm(loader):\n",
    "        bs = graph.batch.max() + 1\n",
    "        try:\n",
    "            s = model.encoder(graph.to(dev))\n",
    "            embeddings[idx:idx+bs] = model.summary(s, graph.batch).squeeze().cpu().numpy()\n",
    "        except:\n",
    "            pass\n",
    "        idx = idx + bs\n",
    "        \n",
    "    return embeddings"
   ]
  },
  {
   "cell_type": "code",
   "execution_count": 428,
   "metadata": {},
   "outputs": [
    {
     "data": {
      "application/vnd.jupyter.widget-view+json": {
       "model_id": "85bec1385cb54023a89f2e3e06be24b9",
       "version_major": 2,
       "version_minor": 0
      },
      "text/plain": [
       "HBox(children=(HTML(value=''), FloatProgress(value=0.0, max=1986.0), HTML(value='')))"
      ]
     },
     "metadata": {},
     "output_type": "display_data"
    },
    {
     "name": "stdout",
     "output_type": "stream",
     "text": [
      "\n"
     ]
    }
   ],
   "source": [
    "embs = emb_csv(model, loader)"
   ]
  },
  {
   "cell_type": "code",
   "execution_count": 434,
   "metadata": {},
   "outputs": [],
   "source": [
    "upl_f = lambda x : re.sub('../snac_data/use_case_graphs/','', x)\n",
    "upl_f_csv = lambda x : re.sub('.csv','', x)\n",
    "upl_f_emb = lambda x : re.sub('/graph','_emb',x)\n",
    "\n",
    "upl = [*map(upl_f, path_list)]\n",
    "upl = [*map(upl_f_csv, upl)]\n",
    "upl = [*map(upl_f_emb, upl)]\n",
    "upl = np.array(upl)"
   ]
  },
  {
   "cell_type": "code",
   "execution_count": 438,
   "metadata": {},
   "outputs": [],
   "source": [
    "cols = ['emb',*map(str, *[range(1024)])]"
   ]
  },
  {
   "cell_type": "code",
   "execution_count": 439,
   "metadata": {},
   "outputs": [],
   "source": [
    "df1 = pd.DataFrame(upl)\n",
    "df2 = pd.DataFrame(embs)"
   ]
  },
  {
   "cell_type": "code",
   "execution_count": 440,
   "metadata": {},
   "outputs": [],
   "source": [
    "df = pd.concat([df1, df2], axis=1)\n",
    "df.columns = cols"
   ]
  },
  {
   "cell_type": "code",
   "execution_count": 448,
   "metadata": {},
   "outputs": [],
   "source": [
    "df = df[df['0'] != 0]"
   ]
  },
  {
   "cell_type": "code",
   "execution_count": 449,
   "metadata": {},
   "outputs": [],
   "source": [
    "df.to_csv('embeddings/deep_graph_infomax/unsupervised/DGI_JSD_512_seqveq_testcases.csv')"
   ]
  },
  {
   "cell_type": "code",
   "execution_count": null,
   "metadata": {},
   "outputs": [],
   "source": []
  }
 ],
 "metadata": {
  "kernelspec": {
   "display_name": "Python 3.7.1 64-bit ('torch': conda)",
   "language": "python",
   "name": "python37164bittorchconda400f3b5524f54409b045df0fcc1fa418"
  },
  "language_info": {
   "codemirror_mode": {
    "name": "ipython",
    "version": 3
   },
   "file_extension": ".py",
   "mimetype": "text/x-python",
   "name": "python",
   "nbconvert_exporter": "python",
   "pygments_lexer": "ipython3",
   "version": "3.7.1"
  }
 },
 "nbformat": 4,
 "nbformat_minor": 4
}
