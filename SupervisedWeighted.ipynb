{
 "cells": [
  {
   "cell_type": "code",
   "execution_count": 104,
   "metadata": {},
   "outputs": [],
   "source": [
    "import numpy as np\n",
    "import pandas as pd\n",
    "import sys\n",
    "from tqdm.notebook import tqdm\n",
    "import networkx as nx\n",
    "sys.path.append('..')\n",
    "\n",
    "import torch\n",
    "from torch.functional import F\n",
    "import torch.nn as nn\n",
    "\n",
    "from torch_geometric.data import Data, DataLoader, Dataset\n",
    "from torch_geometric.utils import from_networkx, to_networkx, degree\n",
    "from torch_geometric.nn import GATConv, GCNConv, global_add_pool, PNAConv, BatchNorm, CGConv, global_max_pool\n",
    "from torch_geometric.utils.metric import accuracy, precision, f1_score\n",
    "import torch_geometric.transforms as T\n",
    "\n",
    "from models.graph_transformer.euclidean_graph_transformer import GraphTransformerEncoder\n",
    "\n",
    "from sklearn.model_selection import train_test_split\n",
    "from sklearn.preprocessing import LabelEncoder, OneHotEncoder\n",
    "from sklearn.metrics import roc_auc_score, accuracy_score, average_precision_score, precision_score\n",
    "\n",
    "from utils.data_gen import load_prot_embs, to_categorical, wcsv2graph, SNLDataset\n",
    "\n",
    "dev = torch.device('cuda:0')"
   ]
  },
  {
   "cell_type": "code",
   "execution_count": 105,
   "metadata": {},
   "outputs": [],
   "source": [
    "prot_embs, global_dict = load_prot_embs(512, norm=False)"
   ]
  },
  {
   "cell_type": "code",
   "execution_count": 106,
   "metadata": {},
   "outputs": [],
   "source": [
    "labelled_ugraphs = pd.read_csv('../snac_data/graph_classification_all.csv')\n",
    "weighted_df = pd.read_csv('../snac_data/file_info_weighted.csv')\n",
    "\n",
    "val_set_1 = pd.read_csv('../snac_data/splits/val_set_1.csv')\n",
    "val_set_2 = pd.read_csv('../snac_data/splits/val_set_2.csv')\n",
    "val_set_3 = pd.read_csv('../snac_data/splits/val_set_3.csv')\n",
    "val_set_4 = pd.read_csv('../snac_data/splits/val_set_4.csv')\n",
    "test_set = pd.read_csv('../snac_data/splits/test_set.csv')"
   ]
  },
  {
   "cell_type": "code",
   "execution_count": 107,
   "metadata": {},
   "outputs": [],
   "source": [
    "wsample_path = weighted_df.files_weighted.to_numpy()[4]\n",
    "data = wcsv2graph(wsample_path, global_dict, [0,0,1])"
   ]
  },
  {
   "cell_type": "code",
   "execution_count": 108,
   "metadata": {},
   "outputs": [
    {
     "data": {
      "application/vnd.jupyter.widget-view+json": {
       "model_id": "18ff26d89352476dada81ee5a76749d2",
       "version_major": 2,
       "version_minor": 0
      },
      "text/plain": [
       "HBox(children=(FloatProgress(value=0.0, max=1031.0), HTML(value='')))"
      ]
     },
     "metadata": {},
     "output_type": "display_data"
    },
    {
     "name": "stdout",
     "output_type": "stream",
     "text": [
      "\n"
     ]
    }
   ],
   "source": [
    "usm = pd.DataFrame(labelled_ugraphs.groupby('sig_id').moa_v1.unique()).reset_index()\n",
    "usm_corr = np.array([np.array(i) for i in usm.moa_v1.to_numpy()]).reshape(-1)\n",
    "usm['moa_v1'] = usm_corr\n",
    "\n",
    "X_df = pd.merge(weighted_df, usm, on='sig_id')\n",
    "val_df =  pd.merge(X_df, val_set_4, on='sig_id')\n",
    "test_df = pd.merge(X_df, test_set, on='sig_id')\n",
    "\n",
    "for sig in tqdm(test_set.sig_id):\n",
    "    X_df = X_df[X_df['sig_id'] != sig]"
   ]
  },
  {
   "cell_type": "code",
   "execution_count": 109,
   "metadata": {},
   "outputs": [],
   "source": [
    "X_train, y_train = X_df.files_weighted.to_numpy(), X_df.moa_v1.to_numpy()\n",
    "X_val, y_val = val_df.files_weighted.to_numpy(), val_df.moa_v1_x.to_numpy()\n",
    "X_test, y_test = test_df.files_weighted.to_numpy(), test_df.moa_v1_x.to_numpy()"
   ]
  },
  {
   "cell_type": "code",
   "execution_count": 110,
   "metadata": {},
   "outputs": [],
   "source": [
    "le = OneHotEncoder()\n",
    "y = np.concatenate([y_train, y_val, y_test])\n",
    "le = le.fit(y.reshape(-1,1))\n",
    "y_train = le.transform(y_train.reshape(len(y_train),-1)).toarray()\n",
    "y_val = le.transform(y_val.reshape(len(y_val),-1)).toarray()\n",
    "y_test = le.transform(y_test.reshape(len(y_test), -1)).toarray()"
   ]
  },
  {
   "cell_type": "code",
   "execution_count": 111,
   "metadata": {},
   "outputs": [],
   "source": [
    "train_data = SNLDataset(X_train, y_train, global_dict)\n",
    "val_data = SNLDataset(X_val, y_val, global_dict)\n",
    "test_data = SNLDataset(X_test, y_test, global_dict)\n",
    "\n",
    "train_loader = DataLoader(train_data, batch_size=1, num_workers=12, shuffle=True)\n",
    "val_loader = DataLoader(val_data, batch_size=1, num_workers=12, shuffle=True)\n",
    "test_loader = DataLoader(test_data, batch_size=1, num_workers=12)"
   ]
  },
  {
   "cell_type": "markdown",
   "metadata": {},
   "source": [
    "# Eval"
   ]
  },
  {
   "cell_type": "code",
   "execution_count": 18,
   "metadata": {},
   "outputs": [],
   "source": [
    "preds = np.array(preds)\n",
    "p_reshaped = preds.reshape(4, 1031, 255)"
   ]
  },
  {
   "cell_type": "code",
   "execution_count": 19,
   "metadata": {},
   "outputs": [],
   "source": [
    "pred_mean = torch.mean(torch.tensor(p_reshaped), dim=0)"
   ]
  },
  {
   "cell_type": "code",
   "execution_count": 20,
   "metadata": {},
   "outputs": [],
   "source": [
    "pred_labels = torch.argmax(pred_mean, dim=-1)\n",
    "true_labels = np.argmax(y_test, axis=-1)"
   ]
  },
  {
   "cell_type": "code",
   "execution_count": 21,
   "metadata": {},
   "outputs": [],
   "source": [
    "test_set['true'] = true_labels\n",
    "test_set['predicted'] = pred_labels"
   ]
  },
  {
   "cell_type": "code",
   "execution_count": 22,
   "metadata": {},
   "outputs": [
    {
     "data": {
      "text/plain": [
       "0.375"
      ]
     },
     "execution_count": 22,
     "metadata": {},
     "output_type": "execute_result"
    }
   ],
   "source": [
    "per_drug_acc(test_set)"
   ]
  },
  {
   "cell_type": "code",
   "execution_count": 23,
   "metadata": {},
   "outputs": [
    {
     "data": {
      "text/plain": [
       "0.1794871794871795"
      ]
     },
     "execution_count": 23,
     "metadata": {},
     "output_type": "execute_result"
    }
   ],
   "source": [
    "per_sig_acc(test_set)"
   ]
  },
  {
   "cell_type": "code",
   "execution_count": null,
   "metadata": {},
   "outputs": [],
   "source": []
  }
 ],
 "metadata": {
  "kernelspec": {
   "display_name": "Python 3.7.1 64-bit ('torch': conda)",
   "language": "python",
   "name": "python37164bittorchconda400f3b5524f54409b045df0fcc1fa418"
  },
  "language_info": {
   "codemirror_mode": {
    "name": "ipython",
    "version": 3
   },
   "file_extension": ".py",
   "mimetype": "text/x-python",
   "name": "python",
   "nbconvert_exporter": "python",
   "pygments_lexer": "ipython3",
   "version": "3.7.9"
  }
 },
 "nbformat": 4,
 "nbformat_minor": 4
}
