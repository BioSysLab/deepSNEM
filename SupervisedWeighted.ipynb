{
 "cells": [
  {
   "cell_type": "code",
   "execution_count": 1,
   "metadata": {},
   "outputs": [],
   "source": [
    "import numpy as np\n",
    "import pandas as pd\n",
    "import sys\n",
    "from tqdm.notebook import tqdm\n",
    "import networkx as nx\n",
    "sys.path.append('..')\n",
    "\n",
    "import torch\n",
    "from torch.functional import F\n",
    "import torch.nn as nn\n",
    "from torch.distributions import Dirichlet\n",
    "\n",
    "from torch_geometric.data import Data, DataLoader, Dataset\n",
    "from torch_geometric.utils import from_networkx, to_networkx, degree\n",
    "from torch_geometric.nn import Set2Set\n",
    "from torch_geometric.utils.metric import accuracy, precision, f1_score\n",
    "import torch_geometric.transforms as T\n",
    "\n",
    "from models.graph_transformer.euclidean_graph_transformer import GraphTransformerEncoder\n",
    "from models.deep_graph_infomax.infomax import SNInfomax\n",
    "\n",
    "from sklearn.model_selection import train_test_split\n",
    "from sklearn.preprocessing import LabelEncoder, OneHotEncoder\n",
    "from sklearn.metrics import roc_auc_score, accuracy_score, average_precision_score, precision_score\n",
    "from sklearn.utils.class_weight import compute_class_weight\n",
    "\n",
    "from utils.data_gen import load_prot_embs, SNDatasetInfomax, ucsv2graph_infomax, wcsv2graph_infomax, WSNDataset\n",
    "\n",
    "dev = torch.device('cuda:0')"
   ]
  },
  {
   "cell_type": "markdown",
   "metadata": {},
   "source": [
    "# Load the appropriate data"
   ]
  },
  {
   "cell_type": "code",
   "execution_count": 2,
   "metadata": {},
   "outputs": [],
   "source": [
    "prot_embs, global_dict = load_prot_embs(512, norm=False)"
   ]
  },
  {
   "cell_type": "code",
   "execution_count": 3,
   "metadata": {},
   "outputs": [],
   "source": [
    "all_semi = pd.read_csv('data/graph_info_df/file_info_weighted.csv')\n",
    "all_semi = all_semi[all_semi.files_weighted != 'graphs_weighted/CPC019_MCF7_24H_BRD-K46373671-001-01-8_10/graph.csv']\n",
    "u_path_list = all_semi.files_weighted.values\n",
    "#all_moas = all_semi.moa_v1.values\n",
    "#moa_v1 = all_moas[all_semi.moa_v1 != 'Unknown']\n",
    "labels = all_semi.identifier.to_numpy().reshape(-1,1)\n",
    "\n",
    "oh = OneHotEncoder()\n",
    "labels = oh.fit_transform(labels).toarray()\n",
    "\n",
    "train_data = WSNDataset(u_path_list, global_dict)"
   ]
  },
  {
   "cell_type": "markdown",
   "metadata": {},
   "source": [
    "# Eval"
   ]
  },
  {
   "cell_type": "code",
   "execution_count": 4,
   "metadata": {},
   "outputs": [],
   "source": [
    "from gensim.models.doc2vec import TaggedDocument, Doc2Vec\n",
    "from karateclub.utils.treefeatures import WeisfeilerLehmanHashing\n",
    "from karateclub.node_embedding import Role2Vec"
   ]
  },
  {
   "cell_type": "code",
   "execution_count": 5,
   "metadata": {},
   "outputs": [],
   "source": [
    "fname = u_path_list[1700]"
   ]
  },
  {
   "cell_type": "code",
   "execution_count": null,
   "metadata": {},
   "outputs": [
    {
     "data": {
      "application/vnd.jupyter.widget-view+json": {
       "model_id": "38aaa607742e4ce38cf32dacef0db579",
       "version_major": 2,
       "version_minor": 0
      },
      "text/plain": [
       "HBox(children=(FloatProgress(value=0.0, max=983.0), HTML(value='')))"
      ]
     },
     "metadata": {},
     "output_type": "display_data"
    }
   ],
   "source": [
    "train_loader = DataLoader(train_data, batch_size=8, num_workers=12, shuffle=True)\n",
    "for u in tqdm(train_loader):\n",
    "    print(u)"
   ]
  },
  {
   "cell_type": "code",
   "execution_count": null,
   "metadata": {},
   "outputs": [],
   "source": []
  }
 ],
 "metadata": {
  "kernelspec": {
   "display_name": "Python 3.7.1 64-bit ('torch': conda)",
   "language": "python",
   "name": "python37164bittorchconda400f3b5524f54409b045df0fcc1fa418"
  },
  "language_info": {
   "codemirror_mode": {
    "name": "ipython",
    "version": 3
   },
   "file_extension": ".py",
   "mimetype": "text/x-python",
   "name": "python",
   "nbconvert_exporter": "python",
   "pygments_lexer": "ipython3",
   "version": "3.7.9"
  }
 },
 "nbformat": 4,
 "nbformat_minor": 4
}
