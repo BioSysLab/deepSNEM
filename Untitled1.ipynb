{
 "cells": [
  {
   "cell_type": "code",
   "execution_count": 1,
   "metadata": {},
   "outputs": [
    {
     "data": {
      "text/plain": [
       "True"
      ]
     },
     "execution_count": 1,
     "metadata": {},
     "output_type": "execute_result"
    }
   ],
   "source": [
    "import numpy as np\n",
    "import pandas as pd\n",
    "import pickle\n",
    "import math\n",
    "import sys\n",
    "sys.path.append('..')\n",
    "\n",
    "import torch\n",
    "import torch.nn as nn\n",
    "from torch.functional import F\n",
    "\n",
    "import torch_geometric\n",
    "from torch_geometric.data import Data, DataLoader, Dataset\n",
    "from torch_geometric.utils import add_self_loops, degree, to_dense_adj,remove_self_loops, to_networkx\n",
    "from torch_geometric.nn import Set2Set\n",
    "\n",
    "from models.graph_transformer.euclidean_graph_transformer import GraphTransformerEncoder\n",
    "from models.deep_graph_infomax.infomax import SNInfomax\n",
    "from models.graph_transformer.autoencoder_base import DeepSNEM, LinearDecoder, FermiDiracDecoder\n",
    "from utils.data_gen import load_prot_embs, wcsv2graph, load_prot_embs_go, SNDatasetInfomax, ucsv2graph_infomax\n",
    "\n",
    "torch.cuda.empty_cache()\n",
    "torch.backends.cudnn.benchmark = True\n",
    "torch.cuda.is_available()"
   ]
  },
  {
   "cell_type": "code",
   "execution_count": 5,
   "metadata": {},
   "outputs": [],
   "source": [
    "unique_prots = 'data/prot_embeddings/new_features/proteins.csv'\n",
    "unique_df = pd.read_csv(unique_prots)\n",
    "global_dict = {}\n",
    "\n",
    "for idx, prot in enumerate(unique_df.proteins.to_numpy()):\n",
    "    global_dict[prot] = idx"
   ]
  },
  {
   "cell_type": "code",
   "execution_count": 8,
   "metadata": {},
   "outputs": [],
   "source": [
    "samples_all = 'data/graph_info_df/samples_all.csv'\n",
    "samples_all = pd.read_csv(samples_all)\n",
    "u_path_list = samples_all.path_list.values\n",
    "\n",
    "use_cases = 'data/use_cases/use_case_graphs.csv'\n",
    "use_cases = pd.read_csv(use_cases)"
   ]
  },
  {
   "cell_type": "code",
   "execution_count": null,
   "metadata": {},
   "outputs": [],
   "source": []
  }
 ],
 "metadata": {
  "kernelspec": {
   "display_name": "Python 3.7.1 64-bit ('torch': conda)",
   "language": "python",
   "name": "python37164bittorchconda400f3b5524f54409b045df0fcc1fa418"
  },
  "language_info": {
   "codemirror_mode": {
    "name": "ipython",
    "version": 3
   },
   "file_extension": ".py",
   "mimetype": "text/x-python",
   "name": "python",
   "nbconvert_exporter": "python",
   "pygments_lexer": "ipython3",
   "version": "3.7.9"
  }
 },
 "nbformat": 4,
 "nbformat_minor": 4
}
