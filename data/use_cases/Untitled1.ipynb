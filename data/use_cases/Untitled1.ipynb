{
 "cells": [
  {
   "cell_type": "code",
   "execution_count": 1,
   "id": "stainless-campaign",
   "metadata": {},
   "outputs": [],
   "source": [
    "import pandas as pd\n",
    "import numpy as np \n",
    "import sys\n",
    "sys.path.append('..')\n",
    "\n",
    "import re\n",
    "import os"
   ]
  },
  {
   "cell_type": "code",
   "execution_count": 10,
   "id": "traditional-people",
   "metadata": {},
   "outputs": [],
   "source": [
    "use_cases_plus_all = 'to_vis_all_non_specific.csv'\n",
    "samples_all = 'samples_all.csv'\n",
    "uc_graphs = 'use_case_graphs.csv'\n",
    "all_data = 'file_info.csv'"
   ]
  },
  {
   "cell_type": "code",
   "execution_count": 11,
   "id": "material-appreciation",
   "metadata": {},
   "outputs": [
    {
     "name": "stderr",
     "output_type": "stream",
     "text": [
      "/home/rootlocus/anaconda3/envs/torch/lib/python3.7/site-packages/IPython/core/interactiveshell.py:2714: DtypeWarning: Columns (1025,1026,1027,1028,1029,1030) have mixed types.Specify dtype option on import or set low_memory=False.\n",
      "  interactivity=interactivity, compiler=compiler, result=result)\n"
     ]
    }
   ],
   "source": [
    "ucpa = pd.read_csv(use_cases_plus_all)\n",
    "to_drop = ['X' + str(i) for i in range(1024)]\n",
    "ucpa = ucpa.drop(to_drop, axis=1)\n",
    "\n",
    "samples_all = pd.read_csv(samples_all)\n",
    "samples_all.columns = ['U',\"files_combined\"]\n",
    "\n",
    "gca = 'graph_classification_all.csv'\n",
    "gca = pd.read_csv(gca)\n",
    "\n",
    "ucg = pd.read_csv(uc_graphs)\n",
    "all_data = pd.read_csv(all_data)\n",
    "\n",
    "merged = pd.merge(all_data, gca, on = 'sig_id')"
   ]
  },
  {
   "cell_type": "code",
   "execution_count": null,
   "id": "correct-illinois",
   "metadata": {},
   "outputs": [],
   "source": [
    "sigs = ucpa.sig_id.to_numpy()\n",
    "func = lambda x: re.split('_*_', x)\n",
    "\n",
    "uc = [*map(func, sigs)][-1966:]\n",
    "\n",
    "uc_names = [i[1] for i in uc]\n",
    "uc_moas = ucpa.moa_v1.to_numpy()[-1966:]"
   ]
  },
  {
   "cell_type": "code",
   "execution_count": null,
   "id": "dominican-nicholas",
   "metadata": {},
   "outputs": [],
   "source": [
    "#ucg['moas'] = uc_moas\n",
    "\n",
    "name_prev = ''\n",
    "nm = dict()\n",
    "\n",
    "for name, moa in zip(uc_names, uc_moas):\n",
    "    if name_prev == name:\n",
    "        pass\n",
    "    else:\n",
    "        nm[name] = moa\n",
    "        name_prev = name"
   ]
  },
  {
   "cell_type": "code",
   "execution_count": null,
   "id": "yellow-microphone",
   "metadata": {},
   "outputs": [],
   "source": [
    "ucg['moas'] = np.array([nm[i] for i in ucg.drug_name.to_numpy()])"
   ]
  },
  {
   "cell_type": "code",
   "execution_count": null,
   "id": "valid-workplace",
   "metadata": {},
   "outputs": [],
   "source": [
    "merged = pd.merge(all_data, samples_all, on = 'files_combined').drop('Unnamed: 0', axis=1)\n",
    "merged = merged[['sig_id','files_combined', 'pert_iname', 'emb']]"
   ]
  },
  {
   "cell_type": "code",
   "execution_count": null,
   "id": "aquatic-sculpture",
   "metadata": {},
   "outputs": [],
   "source": []
  }
 ],
 "metadata": {
  "kernelspec": {
   "display_name": "Python 3.7.1 64-bit ('torch': conda)",
   "language": "python",
   "name": "python37164bittorchconda400f3b5524f54409b045df0fcc1fa418"
  },
  "language_info": {
   "codemirror_mode": {
    "name": "ipython",
    "version": 3
   },
   "file_extension": ".py",
   "mimetype": "text/x-python",
   "name": "python",
   "nbconvert_exporter": "python",
   "pygments_lexer": "ipython3",
   "version": "3.7.9"
  }
 },
 "nbformat": 4,
 "nbformat_minor": 5
}
