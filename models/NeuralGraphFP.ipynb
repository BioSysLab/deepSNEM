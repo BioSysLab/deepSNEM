{
 "cells": [
  {
   "cell_type": "code",
   "execution_count": 1,
   "metadata": {},
   "outputs": [
    {
     "data": {
      "text/plain": [
       "True"
      ]
     },
     "execution_count": 1,
     "metadata": {},
     "output_type": "execute_result"
    }
   ],
   "source": [
    "import torch\n",
    "import torch.nn.functional as F\n",
    "from torch_geometric.data import Data, Dataset, DataLoader\n",
    "from torch_geometric.nn import GCNConv, GAE, GATConv, DeepGraphInfomax\n",
    "from torch_geometric.utils import train_test_split_edges\n",
    "from pytorch_lightning.callbacks import ModelCheckpoint, EarlyStopping\n",
    "\n",
    "import pytorch_lightning as pl\n",
    "from argparse import Namespace\n",
    "\n",
    "import ast\n",
    "import pandas as pd\n",
    "import numpy as np\n",
    "import pickle\n",
    "from scipy.sparse import coo_matrix\n",
    "from sklearn.model_selection import train_test_split\n",
    "from sklearn.preprocessing import StandardScaler, MinMaxScaler, MaxAbsScaler\n",
    "from scipy.spatial.distance import jensenshannon, cosine, pdist\n",
    "\n",
    "from tqdm.auto import tqdm\n",
    "\n",
    "import os\n",
    "import sys\n",
    "sys.path.append('..')\n",
    "\n",
    "dev = torch.device('cuda:0')\n",
    "torch.cuda.is_available()"
   ]
  },
  {
   "cell_type": "code",
   "execution_count": 2,
   "metadata": {},
   "outputs": [],
   "source": [
    "prot_path = '../data/lc_embeddings_raw.pkl'\n",
    "prot_dict = {}\n",
    "with open(prot_path, 'rb') as f:\n",
    "    prot_dict = pickle.load(f)\n",
    "    \n",
    "prot_dict['Perturbation'] = np.zeros((384,))\n",
    "prot_dict['IKBKAP'] = np.zeros((384,))\n",
    "prot_dict['WHSC1'] = np.zeros((384,))\n",
    "prot_dict['ADRBK1'] = np.zeros((384,))\n",
    "prot_dict['FIGF'] = np.zeros((384,))\n",
    "prot_dict['FAM175A'] = np.zeros((384,))\n",
    "prot_dict['PARK2'] = np.zeros((384,))\n",
    "prot_dict['NKX3~1'] = np.zeros((384,))\n",
    "prot_dict['ERBB2IP'] = np.zeros((384,))\n",
    "\n",
    "shapes_dict = {\n",
    "    'num_prot_features' : 385,\n",
    "    'num_edge_features' : 1\n",
    "}"
   ]
  },
  {
   "cell_type": "code",
   "execution_count": 3,
   "metadata": {},
   "outputs": [
    {
     "data": {
      "text/plain": [
       "(384,)"
      ]
     },
     "execution_count": 3,
     "metadata": {},
     "output_type": "execute_result"
    }
   ],
   "source": [
    "np.array(prot_dict['LCK']).shape"
   ]
  },
  {
   "cell_type": "code",
   "execution_count": 4,
   "metadata": {},
   "outputs": [
    {
     "data": {
      "text/html": [
       "<div>\n",
       "<style scoped>\n",
       "    .dataframe tbody tr th:only-of-type {\n",
       "        vertical-align: middle;\n",
       "    }\n",
       "\n",
       "    .dataframe tbody tr th {\n",
       "        vertical-align: top;\n",
       "    }\n",
       "\n",
       "    .dataframe thead th {\n",
       "        text-align: right;\n",
       "    }\n",
       "</style>\n",
       "<table border=\"1\" class=\"dataframe\">\n",
       "  <thead>\n",
       "    <tr style=\"text-align: right;\">\n",
       "      <th></th>\n",
       "      <th>Unnamed: 0</th>\n",
       "      <th>files_combined</th>\n",
       "      <th>sig_id</th>\n",
       "      <th>count.x</th>\n",
       "      <th>pert_id</th>\n",
       "      <th>pert_iname</th>\n",
       "      <th>pert_type</th>\n",
       "      <th>cell_id</th>\n",
       "      <th>pert_dose</th>\n",
       "      <th>pert_dose_unit</th>\n",
       "      <th>...</th>\n",
       "      <th>distil_nsample</th>\n",
       "      <th>quality</th>\n",
       "      <th>myc_ranks</th>\n",
       "      <th>median_drug_ranks</th>\n",
       "      <th>counts</th>\n",
       "      <th>primary_site</th>\n",
       "      <th>rdkit</th>\n",
       "      <th>atoms</th>\n",
       "      <th>count.y</th>\n",
       "      <th>emb</th>\n",
       "    </tr>\n",
       "  </thead>\n",
       "  <tbody>\n",
       "    <tr>\n",
       "      <th>0</th>\n",
       "      <td>1</td>\n",
       "      <td>graphs_combined/AML001_CD34_24H_BRD-A19500257_...</td>\n",
       "      <td>AML001_CD34_24H_BRD-A19500257_1.11111</td>\n",
       "      <td>100</td>\n",
       "      <td>BRD-A19500257</td>\n",
       "      <td>geldanamycin</td>\n",
       "      <td>trt_cp</td>\n",
       "      <td>CD34</td>\n",
       "      <td>1.11111</td>\n",
       "      <td>µM</td>\n",
       "      <td>...</td>\n",
       "      <td>2</td>\n",
       "      <td>1</td>\n",
       "      <td>59</td>\n",
       "      <td>57.0</td>\n",
       "      <td>61</td>\n",
       "      <td>bone</td>\n",
       "      <td>COC1=C2CC(C)CC(OC)C(O)C(C)/C=C(\\C)C(OC(N)=O)C(...</td>\n",
       "      <td>40.0</td>\n",
       "      <td>1.0</td>\n",
       "      <td>AML001_CD34_24H_BRD-A19500257_1.11111_emb_1</td>\n",
       "    </tr>\n",
       "    <tr>\n",
       "      <th>1</th>\n",
       "      <td>2</td>\n",
       "      <td>graphs_combined/AML001_CD34_24H_BRD-A19500257_...</td>\n",
       "      <td>AML001_CD34_24H_BRD-A19500257_1.11111</td>\n",
       "      <td>100</td>\n",
       "      <td>BRD-A19500257</td>\n",
       "      <td>geldanamycin</td>\n",
       "      <td>trt_cp</td>\n",
       "      <td>CD34</td>\n",
       "      <td>1.11111</td>\n",
       "      <td>µM</td>\n",
       "      <td>...</td>\n",
       "      <td>2</td>\n",
       "      <td>1</td>\n",
       "      <td>59</td>\n",
       "      <td>57.0</td>\n",
       "      <td>61</td>\n",
       "      <td>bone</td>\n",
       "      <td>COC1=C2CC(C)CC(OC)C(O)C(C)/C=C(\\C)C(OC(N)=O)C(...</td>\n",
       "      <td>40.0</td>\n",
       "      <td>1.0</td>\n",
       "      <td>AML001_CD34_24H_BRD-A19500257_1.11111_emb_10</td>\n",
       "    </tr>\n",
       "    <tr>\n",
       "      <th>2</th>\n",
       "      <td>3</td>\n",
       "      <td>graphs_combined/AML001_CD34_24H_BRD-A19500257_...</td>\n",
       "      <td>AML001_CD34_24H_BRD-A19500257_1.11111</td>\n",
       "      <td>100</td>\n",
       "      <td>BRD-A19500257</td>\n",
       "      <td>geldanamycin</td>\n",
       "      <td>trt_cp</td>\n",
       "      <td>CD34</td>\n",
       "      <td>1.11111</td>\n",
       "      <td>µM</td>\n",
       "      <td>...</td>\n",
       "      <td>2</td>\n",
       "      <td>1</td>\n",
       "      <td>59</td>\n",
       "      <td>57.0</td>\n",
       "      <td>61</td>\n",
       "      <td>bone</td>\n",
       "      <td>COC1=C2CC(C)CC(OC)C(O)C(C)/C=C(\\C)C(OC(N)=O)C(...</td>\n",
       "      <td>40.0</td>\n",
       "      <td>1.0</td>\n",
       "      <td>AML001_CD34_24H_BRD-A19500257_1.11111_emb_100</td>\n",
       "    </tr>\n",
       "    <tr>\n",
       "      <th>3</th>\n",
       "      <td>4</td>\n",
       "      <td>graphs_combined/AML001_CD34_24H_BRD-A19500257_...</td>\n",
       "      <td>AML001_CD34_24H_BRD-A19500257_1.11111</td>\n",
       "      <td>100</td>\n",
       "      <td>BRD-A19500257</td>\n",
       "      <td>geldanamycin</td>\n",
       "      <td>trt_cp</td>\n",
       "      <td>CD34</td>\n",
       "      <td>1.11111</td>\n",
       "      <td>µM</td>\n",
       "      <td>...</td>\n",
       "      <td>2</td>\n",
       "      <td>1</td>\n",
       "      <td>59</td>\n",
       "      <td>57.0</td>\n",
       "      <td>61</td>\n",
       "      <td>bone</td>\n",
       "      <td>COC1=C2CC(C)CC(OC)C(O)C(C)/C=C(\\C)C(OC(N)=O)C(...</td>\n",
       "      <td>40.0</td>\n",
       "      <td>1.0</td>\n",
       "      <td>AML001_CD34_24H_BRD-A19500257_1.11111_emb_11</td>\n",
       "    </tr>\n",
       "    <tr>\n",
       "      <th>4</th>\n",
       "      <td>5</td>\n",
       "      <td>graphs_combined/AML001_CD34_24H_BRD-A19500257_...</td>\n",
       "      <td>AML001_CD34_24H_BRD-A19500257_1.11111</td>\n",
       "      <td>100</td>\n",
       "      <td>BRD-A19500257</td>\n",
       "      <td>geldanamycin</td>\n",
       "      <td>trt_cp</td>\n",
       "      <td>CD34</td>\n",
       "      <td>1.11111</td>\n",
       "      <td>µM</td>\n",
       "      <td>...</td>\n",
       "      <td>2</td>\n",
       "      <td>1</td>\n",
       "      <td>59</td>\n",
       "      <td>57.0</td>\n",
       "      <td>61</td>\n",
       "      <td>bone</td>\n",
       "      <td>COC1=C2CC(C)CC(OC)C(O)C(C)/C=C(\\C)C(OC(N)=O)C(...</td>\n",
       "      <td>40.0</td>\n",
       "      <td>1.0</td>\n",
       "      <td>AML001_CD34_24H_BRD-A19500257_1.11111_emb_12</td>\n",
       "    </tr>\n",
       "    <tr>\n",
       "      <th>...</th>\n",
       "      <td>...</td>\n",
       "      <td>...</td>\n",
       "      <td>...</td>\n",
       "      <td>...</td>\n",
       "      <td>...</td>\n",
       "      <td>...</td>\n",
       "      <td>...</td>\n",
       "      <td>...</td>\n",
       "      <td>...</td>\n",
       "      <td>...</td>\n",
       "      <td>...</td>\n",
       "      <td>...</td>\n",
       "      <td>...</td>\n",
       "      <td>...</td>\n",
       "      <td>...</td>\n",
       "      <td>...</td>\n",
       "      <td>...</td>\n",
       "      <td>...</td>\n",
       "      <td>...</td>\n",
       "      <td>...</td>\n",
       "      <td>...</td>\n",
       "    </tr>\n",
       "    <tr>\n",
       "      <th>502734</th>\n",
       "      <td>502735</td>\n",
       "      <td>graphs_combined/RAD001_HCC515_6H_BRD-K84937637...</td>\n",
       "      <td>RAD001_HCC515_6H_BRD-K84937637-001-03-2_0.0137</td>\n",
       "      <td>100</td>\n",
       "      <td>BRD-K84937637</td>\n",
       "      <td>sirolimus</td>\n",
       "      <td>trt_cp</td>\n",
       "      <td>HCC515</td>\n",
       "      <td>0.01370</td>\n",
       "      <td>µM</td>\n",
       "      <td>...</td>\n",
       "      <td>3</td>\n",
       "      <td>1</td>\n",
       "      <td>27</td>\n",
       "      <td>27.0</td>\n",
       "      <td>30</td>\n",
       "      <td>lung</td>\n",
       "      <td>NaN</td>\n",
       "      <td>NaN</td>\n",
       "      <td>NaN</td>\n",
       "      <td>RAD001_HCC515_6H_BRD-K84937637-001-03-2_0.0137...</td>\n",
       "    </tr>\n",
       "    <tr>\n",
       "      <th>502735</th>\n",
       "      <td>502736</td>\n",
       "      <td>graphs_combined/RAD001_HCC515_6H_BRD-K84937637...</td>\n",
       "      <td>RAD001_HCC515_6H_BRD-K84937637-001-03-2_0.0137</td>\n",
       "      <td>100</td>\n",
       "      <td>BRD-K84937637</td>\n",
       "      <td>sirolimus</td>\n",
       "      <td>trt_cp</td>\n",
       "      <td>HCC515</td>\n",
       "      <td>0.01370</td>\n",
       "      <td>µM</td>\n",
       "      <td>...</td>\n",
       "      <td>3</td>\n",
       "      <td>1</td>\n",
       "      <td>27</td>\n",
       "      <td>27.0</td>\n",
       "      <td>30</td>\n",
       "      <td>lung</td>\n",
       "      <td>NaN</td>\n",
       "      <td>NaN</td>\n",
       "      <td>NaN</td>\n",
       "      <td>RAD001_HCC515_6H_BRD-K84937637-001-03-2_0.0137...</td>\n",
       "    </tr>\n",
       "    <tr>\n",
       "      <th>502736</th>\n",
       "      <td>502737</td>\n",
       "      <td>graphs_combined/RAD001_HCC515_6H_BRD-K84937637...</td>\n",
       "      <td>RAD001_HCC515_6H_BRD-K84937637-001-03-2_0.0137</td>\n",
       "      <td>100</td>\n",
       "      <td>BRD-K84937637</td>\n",
       "      <td>sirolimus</td>\n",
       "      <td>trt_cp</td>\n",
       "      <td>HCC515</td>\n",
       "      <td>0.01370</td>\n",
       "      <td>µM</td>\n",
       "      <td>...</td>\n",
       "      <td>3</td>\n",
       "      <td>1</td>\n",
       "      <td>27</td>\n",
       "      <td>27.0</td>\n",
       "      <td>30</td>\n",
       "      <td>lung</td>\n",
       "      <td>NaN</td>\n",
       "      <td>NaN</td>\n",
       "      <td>NaN</td>\n",
       "      <td>RAD001_HCC515_6H_BRD-K84937637-001-03-2_0.0137...</td>\n",
       "    </tr>\n",
       "    <tr>\n",
       "      <th>502737</th>\n",
       "      <td>502738</td>\n",
       "      <td>graphs_combined/RAD001_HCC515_6H_BRD-K84937637...</td>\n",
       "      <td>RAD001_HCC515_6H_BRD-K84937637-001-03-2_0.0137</td>\n",
       "      <td>100</td>\n",
       "      <td>BRD-K84937637</td>\n",
       "      <td>sirolimus</td>\n",
       "      <td>trt_cp</td>\n",
       "      <td>HCC515</td>\n",
       "      <td>0.01370</td>\n",
       "      <td>µM</td>\n",
       "      <td>...</td>\n",
       "      <td>3</td>\n",
       "      <td>1</td>\n",
       "      <td>27</td>\n",
       "      <td>27.0</td>\n",
       "      <td>30</td>\n",
       "      <td>lung</td>\n",
       "      <td>NaN</td>\n",
       "      <td>NaN</td>\n",
       "      <td>NaN</td>\n",
       "      <td>RAD001_HCC515_6H_BRD-K84937637-001-03-2_0.0137...</td>\n",
       "    </tr>\n",
       "    <tr>\n",
       "      <th>502738</th>\n",
       "      <td>502739</td>\n",
       "      <td>graphs_combined/RAD001_HCC515_6H_BRD-K84937637...</td>\n",
       "      <td>RAD001_HCC515_6H_BRD-K84937637-001-03-2_0.0137</td>\n",
       "      <td>100</td>\n",
       "      <td>BRD-K84937637</td>\n",
       "      <td>sirolimus</td>\n",
       "      <td>trt_cp</td>\n",
       "      <td>HCC515</td>\n",
       "      <td>0.01370</td>\n",
       "      <td>µM</td>\n",
       "      <td>...</td>\n",
       "      <td>3</td>\n",
       "      <td>1</td>\n",
       "      <td>27</td>\n",
       "      <td>27.0</td>\n",
       "      <td>30</td>\n",
       "      <td>lung</td>\n",
       "      <td>NaN</td>\n",
       "      <td>NaN</td>\n",
       "      <td>NaN</td>\n",
       "      <td>RAD001_HCC515_6H_BRD-K84937637-001-03-2_0.0137...</td>\n",
       "    </tr>\n",
       "  </tbody>\n",
       "</table>\n",
       "<p>502739 rows × 32 columns</p>\n",
       "</div>"
      ],
      "text/plain": [
       "        Unnamed: 0                                     files_combined  \\\n",
       "0                1  graphs_combined/AML001_CD34_24H_BRD-A19500257_...   \n",
       "1                2  graphs_combined/AML001_CD34_24H_BRD-A19500257_...   \n",
       "2                3  graphs_combined/AML001_CD34_24H_BRD-A19500257_...   \n",
       "3                4  graphs_combined/AML001_CD34_24H_BRD-A19500257_...   \n",
       "4                5  graphs_combined/AML001_CD34_24H_BRD-A19500257_...   \n",
       "...            ...                                                ...   \n",
       "502734      502735  graphs_combined/RAD001_HCC515_6H_BRD-K84937637...   \n",
       "502735      502736  graphs_combined/RAD001_HCC515_6H_BRD-K84937637...   \n",
       "502736      502737  graphs_combined/RAD001_HCC515_6H_BRD-K84937637...   \n",
       "502737      502738  graphs_combined/RAD001_HCC515_6H_BRD-K84937637...   \n",
       "502738      502739  graphs_combined/RAD001_HCC515_6H_BRD-K84937637...   \n",
       "\n",
       "                                                sig_id  count.x  \\\n",
       "0                AML001_CD34_24H_BRD-A19500257_1.11111      100   \n",
       "1                AML001_CD34_24H_BRD-A19500257_1.11111      100   \n",
       "2                AML001_CD34_24H_BRD-A19500257_1.11111      100   \n",
       "3                AML001_CD34_24H_BRD-A19500257_1.11111      100   \n",
       "4                AML001_CD34_24H_BRD-A19500257_1.11111      100   \n",
       "...                                                ...      ...   \n",
       "502734  RAD001_HCC515_6H_BRD-K84937637-001-03-2_0.0137      100   \n",
       "502735  RAD001_HCC515_6H_BRD-K84937637-001-03-2_0.0137      100   \n",
       "502736  RAD001_HCC515_6H_BRD-K84937637-001-03-2_0.0137      100   \n",
       "502737  RAD001_HCC515_6H_BRD-K84937637-001-03-2_0.0137      100   \n",
       "502738  RAD001_HCC515_6H_BRD-K84937637-001-03-2_0.0137      100   \n",
       "\n",
       "              pert_id    pert_iname pert_type cell_id  pert_dose  \\\n",
       "0       BRD-A19500257  geldanamycin    trt_cp    CD34    1.11111   \n",
       "1       BRD-A19500257  geldanamycin    trt_cp    CD34    1.11111   \n",
       "2       BRD-A19500257  geldanamycin    trt_cp    CD34    1.11111   \n",
       "3       BRD-A19500257  geldanamycin    trt_cp    CD34    1.11111   \n",
       "4       BRD-A19500257  geldanamycin    trt_cp    CD34    1.11111   \n",
       "...               ...           ...       ...     ...        ...   \n",
       "502734  BRD-K84937637     sirolimus    trt_cp  HCC515    0.01370   \n",
       "502735  BRD-K84937637     sirolimus    trt_cp  HCC515    0.01370   \n",
       "502736  BRD-K84937637     sirolimus    trt_cp  HCC515    0.01370   \n",
       "502737  BRD-K84937637     sirolimus    trt_cp  HCC515    0.01370   \n",
       "502738  BRD-K84937637     sirolimus    trt_cp  HCC515    0.01370   \n",
       "\n",
       "       pert_dose_unit  ... distil_nsample  quality myc_ranks  \\\n",
       "0                  µM  ...              2        1        59   \n",
       "1                  µM  ...              2        1        59   \n",
       "2                  µM  ...              2        1        59   \n",
       "3                  µM  ...              2        1        59   \n",
       "4                  µM  ...              2        1        59   \n",
       "...               ...  ...            ...      ...       ...   \n",
       "502734             µM  ...              3        1        27   \n",
       "502735             µM  ...              3        1        27   \n",
       "502736             µM  ...              3        1        27   \n",
       "502737             µM  ...              3        1        27   \n",
       "502738             µM  ...              3        1        27   \n",
       "\n",
       "       median_drug_ranks counts  primary_site  \\\n",
       "0                   57.0     61          bone   \n",
       "1                   57.0     61          bone   \n",
       "2                   57.0     61          bone   \n",
       "3                   57.0     61          bone   \n",
       "4                   57.0     61          bone   \n",
       "...                  ...    ...           ...   \n",
       "502734              27.0     30          lung   \n",
       "502735              27.0     30          lung   \n",
       "502736              27.0     30          lung   \n",
       "502737              27.0     30          lung   \n",
       "502738              27.0     30          lung   \n",
       "\n",
       "                                                    rdkit  atoms  count.y  \\\n",
       "0       COC1=C2CC(C)CC(OC)C(O)C(C)/C=C(\\C)C(OC(N)=O)C(...   40.0      1.0   \n",
       "1       COC1=C2CC(C)CC(OC)C(O)C(C)/C=C(\\C)C(OC(N)=O)C(...   40.0      1.0   \n",
       "2       COC1=C2CC(C)CC(OC)C(O)C(C)/C=C(\\C)C(OC(N)=O)C(...   40.0      1.0   \n",
       "3       COC1=C2CC(C)CC(OC)C(O)C(C)/C=C(\\C)C(OC(N)=O)C(...   40.0      1.0   \n",
       "4       COC1=C2CC(C)CC(OC)C(O)C(C)/C=C(\\C)C(OC(N)=O)C(...   40.0      1.0   \n",
       "...                                                   ...    ...      ...   \n",
       "502734                                                NaN    NaN      NaN   \n",
       "502735                                                NaN    NaN      NaN   \n",
       "502736                                                NaN    NaN      NaN   \n",
       "502737                                                NaN    NaN      NaN   \n",
       "502738                                                NaN    NaN      NaN   \n",
       "\n",
       "                                                      emb  \n",
       "0             AML001_CD34_24H_BRD-A19500257_1.11111_emb_1  \n",
       "1            AML001_CD34_24H_BRD-A19500257_1.11111_emb_10  \n",
       "2           AML001_CD34_24H_BRD-A19500257_1.11111_emb_100  \n",
       "3            AML001_CD34_24H_BRD-A19500257_1.11111_emb_11  \n",
       "4            AML001_CD34_24H_BRD-A19500257_1.11111_emb_12  \n",
       "...                                                   ...  \n",
       "502734  RAD001_HCC515_6H_BRD-K84937637-001-03-2_0.0137...  \n",
       "502735  RAD001_HCC515_6H_BRD-K84937637-001-03-2_0.0137...  \n",
       "502736  RAD001_HCC515_6H_BRD-K84937637-001-03-2_0.0137...  \n",
       "502737  RAD001_HCC515_6H_BRD-K84937637-001-03-2_0.0137...  \n",
       "502738  RAD001_HCC515_6H_BRD-K84937637-001-03-2_0.0137...  \n",
       "\n",
       "[502739 rows x 32 columns]"
      ]
     },
     "execution_count": 4,
     "metadata": {},
     "output_type": "execute_result"
    }
   ],
   "source": [
    "files = '../../snac_data/file_info.csv'\n",
    "finfo = pd.read_csv(files)\n",
    "finfo"
   ]
  },
  {
   "cell_type": "code",
   "execution_count": 5,
   "metadata": {},
   "outputs": [],
   "source": [
    "samples = '../data/samples_all.csv'\n",
    "samples = pd.read_csv(samples)\n",
    "samples = samples.path_list.to_numpy()\n",
    "samples = set(samples)\n",
    "non_samples = set(finfo.files_combined).difference(samples)"
   ]
  },
  {
   "cell_type": "code",
   "execution_count": 6,
   "metadata": {},
   "outputs": [
    {
     "data": {
      "text/plain": [
       "10000"
      ]
     },
     "execution_count": 6,
     "metadata": {},
     "output_type": "execute_result"
    }
   ],
   "source": [
    "fnames = np.random.choice(list(non_samples), 50_000)\n",
    "X, val = train_test_split(fnames, test_size=0.2)\n",
    "len(val)"
   ]
  },
  {
   "cell_type": "code",
   "execution_count": 7,
   "metadata": {},
   "outputs": [
    {
     "data": {
      "text/plain": [
       "'graphs_combined/AML001_CD34_24H_BRD-A72796238_0.37037/graph_1.csv'"
      ]
     },
     "execution_count": 7,
     "metadata": {},
     "output_type": "execute_result"
    }
   ],
   "source": [
    "sample =finfo.files_combined[100]\n",
    "sample"
   ]
  },
  {
   "cell_type": "code",
   "execution_count": 8,
   "metadata": {},
   "outputs": [
    {
     "data": {
      "text/html": [
       "<div>\n",
       "<style scoped>\n",
       "    .dataframe tbody tr th:only-of-type {\n",
       "        vertical-align: middle;\n",
       "    }\n",
       "\n",
       "    .dataframe tbody tr th {\n",
       "        vertical-align: top;\n",
       "    }\n",
       "\n",
       "    .dataframe thead th {\n",
       "        text-align: right;\n",
       "    }\n",
       "</style>\n",
       "<table border=\"1\" class=\"dataframe\">\n",
       "  <thead>\n",
       "    <tr style=\"text-align: right;\">\n",
       "      <th></th>\n",
       "      <th>Unnamed: 0</th>\n",
       "      <th>node1</th>\n",
       "      <th>sign</th>\n",
       "      <th>node2</th>\n",
       "      <th>activity1</th>\n",
       "      <th>activity2</th>\n",
       "    </tr>\n",
       "  </thead>\n",
       "  <tbody>\n",
       "    <tr>\n",
       "      <th>0</th>\n",
       "      <td>1</td>\n",
       "      <td>AKT1</td>\n",
       "      <td>1</td>\n",
       "      <td>PRKACA</td>\n",
       "      <td>1</td>\n",
       "      <td>1</td>\n",
       "    </tr>\n",
       "    <tr>\n",
       "      <th>1</th>\n",
       "      <td>2</td>\n",
       "      <td>MAPK14</td>\n",
       "      <td>1</td>\n",
       "      <td>FOXO3</td>\n",
       "      <td>1</td>\n",
       "      <td>1</td>\n",
       "    </tr>\n",
       "    <tr>\n",
       "      <th>2</th>\n",
       "      <td>3</td>\n",
       "      <td>MAPK1</td>\n",
       "      <td>-1</td>\n",
       "      <td>FOXO3</td>\n",
       "      <td>-1</td>\n",
       "      <td>1</td>\n",
       "    </tr>\n",
       "    <tr>\n",
       "      <th>3</th>\n",
       "      <td>4</td>\n",
       "      <td>PPP2CA</td>\n",
       "      <td>1</td>\n",
       "      <td>FOXO3</td>\n",
       "      <td>1</td>\n",
       "      <td>1</td>\n",
       "    </tr>\n",
       "    <tr>\n",
       "      <th>4</th>\n",
       "      <td>5</td>\n",
       "      <td>TRAF6</td>\n",
       "      <td>1</td>\n",
       "      <td>AKT1</td>\n",
       "      <td>1</td>\n",
       "      <td>1</td>\n",
       "    </tr>\n",
       "  </tbody>\n",
       "</table>\n",
       "</div>"
      ],
      "text/plain": [
       "   Unnamed: 0   node1  sign   node2  activity1  activity2\n",
       "0           1    AKT1     1  PRKACA          1          1\n",
       "1           2  MAPK14     1   FOXO3          1          1\n",
       "2           3   MAPK1    -1   FOXO3         -1          1\n",
       "3           4  PPP2CA     1   FOXO3          1          1\n",
       "4           5   TRAF6     1    AKT1          1          1"
      ]
     },
     "execution_count": 8,
     "metadata": {},
     "output_type": "execute_result"
    }
   ],
   "source": [
    "df = pd.read_csv('../../snac_data/' + sample)\n",
    "df.head()"
   ]
  },
  {
   "cell_type": "code",
   "execution_count": 9,
   "metadata": {},
   "outputs": [],
   "source": [
    "def csv2edge(path, prot_dict, shapes_dict):\n",
    "    \"\"\"\n",
    "        Reads the csv file and after converting it to a DataFrame, creates the edge matrix in the appropriate\n",
    "        COO format requested by torch geometric. Afterwards, creates the x tensor of the node features taken\n",
    "        from the prot_dict dictionary created.\n",
    "        Inputs \n",
    "            path: path to graph csv file\n",
    "            prot_dict: protein features dictionary\n",
    "            shapes_dict: dictionary specifying the shapes of each graph with keys\n",
    "                        'max_prots', 'num_prot_features', 'num_edge_features'\n",
    "        Outputs \n",
    "            edge_index: edge matrix tensor in COO format : (2, num_edges)\n",
    "            x: node features tensor with shape (num_nodes, num_features)\n",
    "    \"\"\"\n",
    "    npf = 'num_prot_features' in shapes_dict\n",
    "    nef = 'num_edge_features' in shapes_dict\n",
    "    assert npf and nef\n",
    "    \n",
    "    graph = pd.read_csv('../../snac_data/' + path)\n",
    "    node1 = graph.node1.to_numpy()\n",
    "    node2 = graph.node2.to_numpy()\n",
    "    sign = graph.sign.to_numpy()\n",
    "    \n",
    "    unique = np.unique(np.concatenate((node1, node2)))\n",
    "    \n",
    "    node_dict = {}\n",
    "    node_act = {}\n",
    "    \n",
    "    n1a1 = graph[['node1','activity1']]\n",
    "    n1a1.columns = ['node', 'act']\n",
    "    n2a2 = graph[['node2','activity2']]\n",
    "    n2a2.columns = ['node', 'act']\n",
    "    na = pd.concat([n1a1,n2a2])\n",
    "    na = na.drop_duplicates('node').sort_values(by='node')\n",
    "    \n",
    "    for idx, node in enumerate(unique):\n",
    "            node_dict[node] = idx\n",
    "            \n",
    "    node1 = [node_dict[n] for n in node1]\n",
    "    node2 = [node_dict[n] for n in node2]\n",
    "    n1 = np.reshape(node1, (len(node1), 1))\n",
    "    n2 = np.reshape(node2, (len(node2), 1))\n",
    "    sign = np.reshape(sign, (len(sign), 1))\n",
    "    \n",
    "    # For the edge index matrix in the appropriate coo format\n",
    "    pairs_1 = np.hstack((n1, n2))\n",
    "    pairs_ws = np.hstack((pairs_1, sign))\n",
    "    \n",
    "    pairs_1 = pairs_1[np.argsort(pairs_1[:,0])]\n",
    "    pairs_ws = pairs_ws[np.argsort(pairs_ws[:,0])]\n",
    "    sign = pairs_ws[:, 2]\n",
    "    sign = np.reshape(sign, (len(sign), 1))\n",
    "    \n",
    "    pairs_flipped = np.flip(pairs_1, axis=1)\n",
    "    pairs_flipped_ws = np.hstack((pairs_flipped, sign))\n",
    "    \n",
    "    pairs = np.concatenate((pairs_ws, pairs_flipped_ws))\n",
    "    pairs = pairs[np.argsort(pairs[:, 0])]\n",
    "    edge_index = pairs[:, [0,1]]\n",
    "    edge_index = torch.tensor(edge_index, dtype=torch.long).t().contiguous()\n",
    "    \n",
    "    # Creating the node attributes tensor using the prot_dict and shapes_dict files\n",
    "    num_prot_features, num_edge_features = [p for p in shapes_dict.values()]\n",
    "    \n",
    "    max_prots = len(unique)\n",
    "    x = np.zeros((max_prots, num_prot_features))\n",
    "    \n",
    "    for idx, node in enumerate(unique):\n",
    "        x[idx] = np.hstack((prot_dict[node], na['act'].to_numpy()[idx]))\n",
    "\n",
    "    x_scale = MaxAbsScaler()\n",
    "    x = x_scale.fit_transform(x)\n",
    "    x = torch.tensor(x, dtype=torch.float) \n",
    "    \n",
    "    # Creating the edge_features matrix for the edges present in the graph\n",
    "    edge_feats = pairs[:, 2]\n",
    "    edge_feats = edge_feats.reshape(-1,1)\n",
    "    scaler = MinMaxScaler()\n",
    "    edge_feats = scaler.fit_transform(edge_feats)\n",
    "    edge_feats = edge_feats.reshape(-1)\n",
    "    edge_feats = torch.tensor(edge_feats, dtype=torch.float)\n",
    "    \n",
    "    return edge_index, x, edge_feats\n",
    "    \n",
    "edge_index, x, edge_feats = csv2edge(sample, prot_dict, shapes_dict)"
   ]
  },
  {
   "cell_type": "code",
   "execution_count": 10,
   "metadata": {},
   "outputs": [],
   "source": [
    "data_s= Data(edge_index=edge_index, x=x, edge_attr=edge_feats).to(dev)"
   ]
  },
  {
   "cell_type": "code",
   "execution_count": 11,
   "metadata": {},
   "outputs": [
    {
     "data": {
      "text/plain": [
       "tensor([[ 0,  0,  0,  0,  0,  1,  1,  2,  2,  3,  3,  3,  4,  4,  5,  5,  5,  5,\n",
       "          5,  6,  7,  7,  8,  9, 10, 11, 12, 12, 12, 13, 14, 14, 14, 15, 15, 15,\n",
       "         16, 17, 18, 18, 18, 18, 18, 18, 19, 20, 20, 20, 21, 22, 23, 24, 25, 26,\n",
       "         27, 27, 27, 27, 27, 27, 27, 27, 27, 28, 28, 28, 28, 28, 28, 28, 28, 29,\n",
       "         29, 30, 30, 31, 32, 32, 32, 33, 34, 34, 34, 35, 35, 36, 36, 37, 37, 37,\n",
       "         37, 37, 38, 38, 38, 38, 39, 39, 39, 40, 41, 41, 42, 43, 44, 45, 46, 46,\n",
       "         46, 47, 47, 47, 47, 48, 48, 48, 48, 49, 49, 49, 49, 50, 51, 52],\n",
       "        [38, 12, 48, 18, 35, 20, 28, 25, 11,  9, 43, 27, 13, 27, 30, 46, 27, 22,\n",
       "         42, 45, 47, 52, 47,  3, 41,  2,  0, 34, 28,  4, 36, 23, 34, 27, 37, 28,\n",
       "         28, 18, 38, 32, 20,  0, 29, 17, 27,  1, 28, 18, 28,  5, 14, 39,  2, 32,\n",
       "         34, 19, 46,  4, 35, 37, 15,  5,  3, 48, 37, 20, 12, 15,  1, 21, 16, 18,\n",
       "         49,  5, 48, 38, 26, 44, 18, 49, 12, 14, 27,  0, 27, 49, 14, 27, 39, 41,\n",
       "         15, 28,  0, 51, 31, 18, 24, 46, 37, 50, 10, 37,  5,  3, 32,  6, 39,  5,\n",
       "         27,  8,  7, 49, 48,  0, 28, 30, 47, 36, 33, 29, 47, 40, 38,  7]],\n",
       "       device='cuda:0')"
      ]
     },
     "execution_count": 11,
     "metadata": {},
     "output_type": "execute_result"
    }
   ],
   "source": [
    "data_s.edge_index"
   ]
  },
  {
   "cell_type": "code",
   "execution_count": 12,
   "metadata": {},
   "outputs": [
    {
     "data": {
      "text/plain": [
       "tensor([[ 0.1132, -0.6491, -0.0199,  ...,  0.2326,  0.4822,  1.0000],\n",
       "        [-0.6013,  0.2353, -0.1208,  ...,  0.2870,  0.3136,  1.0000],\n",
       "        [ 0.1962, -0.3067, -0.0913,  ...,  0.0516, -0.0867,  1.0000],\n",
       "        ...,\n",
       "        [-0.1299, -0.0685, -0.0358,  ...,  0.0636,  0.9734, -1.0000],\n",
       "        [-0.6466,  0.1432,  0.6966,  ..., -0.4928, -0.1750, -1.0000],\n",
       "        [-0.3057, -0.1427, -0.1181,  ...,  0.0813, -0.2522,  1.0000]],\n",
       "       device='cuda:0')"
      ]
     },
     "execution_count": 12,
     "metadata": {},
     "output_type": "execute_result"
    }
   ],
   "source": [
    "data_s.x"
   ]
  },
  {
   "cell_type": "markdown",
   "metadata": {},
   "source": [
    "# Creating the DataLoader"
   ]
  },
  {
   "cell_type": "code",
   "execution_count": 13,
   "metadata": {},
   "outputs": [],
   "source": [
    "class SNDataset(Dataset):\n",
    "    def __init__(self, fnames, prot_dict, shape_dict):\n",
    "        super(SNDataset, self).__init__()\n",
    "        self.fnames = fnames\n",
    "        self.pd = prot_dict\n",
    "        self.sd = shape_dict \n",
    "        \n",
    "    def len(self):\n",
    "        return len(self.fnames)\n",
    "        \n",
    "    def get(self, idx):\n",
    "        edge_index, x, edge_attr = csv2edge(self.fnames[idx], self.pd, self.sd)\n",
    "        data = Data(x=x, edge_index=edge_index, edge_attr=edge_attr)\n",
    "        return data"
   ]
  },
  {
   "cell_type": "code",
   "execution_count": 14,
   "metadata": {},
   "outputs": [],
   "source": [
    "train_data = SNDataset(X, prot_dict, shapes_dict)\n",
    "train_loader = DataLoader(train_data, batch_size=64)\n",
    "\n",
    "val_data = SNDataset(val, prot_dict, shapes_dict)\n",
    "val_loader = DataLoader(val_data, batch_size=32)"
   ]
  },
  {
   "cell_type": "markdown",
   "metadata": {},
   "source": [
    "# Creating an Autoencoder Pytorch model"
   ]
  },
  {
   "cell_type": "code",
   "execution_count": 15,
   "metadata": {},
   "outputs": [],
   "source": [
    "class Encoder(torch.nn.Module):\n",
    "    def __init__(self, in_channels, out_channels):\n",
    "        super(Encoder, self).__init__()\n",
    "        self.conv1 = GCNConv(in_channels, out_channels)\n",
    "        self.act = torch.nn.PReLU()\n",
    "        \n",
    "    def forward(self, x, edge_index, edge_attr):\n",
    "        x = self.act(self.conv1(x, edge_index, edge_attr))\n",
    "        return x\n",
    "    \n",
    "class Decoder(torch.nn.Module):\n",
    "    def __init__(self, enc_out_shape, original_channels):\n",
    "        super(Decoder, self).__init__()\n",
    "        self.conv1 = GCNConv(enc_out_shape, original_channels)\n",
    "        self.act = torch.nn.PReLU()\n",
    "        \n",
    "    def forward(self, x, edge_index, edge_attr):\n",
    "        x = self.conv1(x, edge_index, edge_attr)\n",
    "        return self.act(x)\n",
    "    \n",
    "class Autoencoder(pl.LightningModule):\n",
    "    def __init__(self, encoder, decoder):\n",
    "        super(Autoencoder, self).__init__()\n",
    "        self.encoder = encoder\n",
    "        self.decoder = decoder\n",
    "        \n",
    "    def encode(self, *args, **kwargs):\n",
    "        return self.encoder(*args, **kwargs)\n",
    "    \n",
    "    def decode(self, *args, **kwargs):\n",
    "        return self.decoder(*args, **kwargs)\n",
    "    \n",
    "    def forward(self, data):\n",
    "        data = data.to(dev)\n",
    "        z = self.encode(data.x, data.edge_index, data.edge_attr)\n",
    "        return self.decode(z, data.edge_index, data.edge_attr)\n",
    "    \n",
    "    def training_step(self, train_batch, batch_idx):\n",
    "        data_t = train_batch\n",
    "        reconstructed = self.forward(data_t)\n",
    "        loss = self.recon_loss(data_t.x, reconstructed)\n",
    "        \n",
    "        logs = {'train_loss' : loss}\n",
    "        \n",
    "        return {'loss': loss, 'log': logs}\n",
    "        \n",
    "    def validation_step(self, val_batch, batch_idx):\n",
    "        data_v = val_batch\n",
    "        reconstructed = self.forward(data_v)\n",
    "        \n",
    "        loss = self.recon_loss(data_v.x, reconstructed)\n",
    "        \n",
    "        return {'val_loss': loss}\n",
    "    \n",
    "    def validation_epoch_end(self, outputs):\n",
    "      # called at the end of the validation epoch\n",
    "      # outputs is an array with what you returned in validation_step for each batch\n",
    "      # outputs = [{'loss': batch_0_loss}, {'loss': batch_1_loss}, ..., {'loss': batch_n_loss}] \n",
    "    \n",
    "      avg_loss = torch.stack([x['val_loss'] for x in outputs]).mean()\n",
    "      \n",
    "      return {'val_loss': avg_loss,\n",
    "             'progress_bar':{'val_loss': avg_loss}}\n",
    "    \n",
    "    def recon_loss(self, original, reconstructed):\n",
    "        return F.mse_loss(original, reconstructed)\n",
    "    \n",
    "    def prepare_data(self):\n",
    "        self.sn_train = SNDataset(X, prot_dict, shapes_dict)\n",
    "        self.sn_val = SNDataset(val, prot_dict, shapes_dict)\n",
    "    \n",
    "    @pl.data_loader\n",
    "    def train_dataloader(self):\n",
    "        return DataLoader(self.sn_train, batch_size=64, num_workers=12)\n",
    "    \n",
    "    @pl.data_loader\n",
    "    def val_dataloader(self):\n",
    "        return DataLoader(self.sn_val, batch_size=64, num_workers=12)\n",
    "    \n",
    "    def configure_optimizers(self):\n",
    "        optimizer = torch.optim.Adam(self.parameters(), lr=1e-2)\n",
    "        return optimizer"
   ]
  },
  {
   "cell_type": "code",
   "execution_count": 16,
   "metadata": {},
   "outputs": [],
   "source": [
    "encoder = Encoder(in_channels=385, out_channels=512).to(dev)\n",
    "decoder = Decoder(enc_out_shape=512, original_channels=385).to(dev)\n",
    "autoencoder = Autoencoder(encoder, decoder).to(dev)"
   ]
  },
  {
   "cell_type": "code",
   "execution_count": 17,
   "metadata": {},
   "outputs": [
    {
     "name": "stderr",
     "output_type": "stream",
     "text": [
      "/home/rootlocus/anaconda3/envs/torch/lib/python3.7/site-packages/pytorch_lightning/utilities/warnings.py:18: UserWarning: Checkpoint directory ../../snac_data/logs/ exists and is not empty with save_top_k != 0.All files in this directory will be deleted when a checkpoint is saved!\n",
      "  warnings.warn(*args, **kwargs)\n"
     ]
    },
    {
     "data": {
      "text/plain": [
       "Autoencoder(\n",
       "  (encoder): Encoder(\n",
       "    (conv1): GCNConv(385, 512)\n",
       "    (act): PReLU(num_parameters=1)\n",
       "  )\n",
       "  (decoder): Decoder(\n",
       "    (conv1): GCNConv(512, 385)\n",
       "    (act): PReLU(num_parameters=1)\n",
       "  )\n",
       ")"
      ]
     },
     "execution_count": 17,
     "metadata": {},
     "output_type": "execute_result"
    }
   ],
   "source": [
    "checkpoint_callbacks = ModelCheckpoint(\n",
    "    filepath='../../snac_data/logs/',\n",
    "    save_top_k=True,\n",
    "    verbose=True,\n",
    "    monitor='val_loss',\n",
    "    mode='min',\n",
    "    prefix=''\n",
    ")\n",
    "\n",
    "early_stop_callback = EarlyStopping(\n",
    "    monitor='val_loss',\n",
    "    patience=3,\n",
    "    strict=False,\n",
    "    verbose=False,\n",
    "    mode='min'\n",
    ")\n",
    "\n",
    "hparams = {'encoder': encoder, 'decoder': decoder}\n",
    "namespace = Namespace(**hparams)\n",
    "\n",
    "#trainer = pl.Trainer(gpus=1, max_epochs=20, checkpoint_callback=checkpoint_callbacks, \n",
    "                     #early_stop_callback=early_stop_callback, logger=False)\n",
    "#trainer.fit(autoencoder)\n",
    "\n",
    "autoencoder.load_from_checkpoint(checkpoint_path='/home/rootlocus/Desktop/NTUA/Systems_Biology_Lab/DiplomaThesis/snac_data/logs/epoch=24.ckpt',\n",
    "                                **hparams)"
   ]
  },
  {
   "cell_type": "code",
   "execution_count": 18,
   "metadata": {},
   "outputs": [
    {
     "data": {
      "text/plain": [
       "tensor([[ 0.1132, -0.6491, -0.0199,  ...,  0.2326,  0.4822,  1.0000],\n",
       "        [-0.6013,  0.2353, -0.1208,  ...,  0.2870,  0.3136,  1.0000],\n",
       "        [ 0.1962, -0.3067, -0.0913,  ...,  0.0516, -0.0867,  1.0000],\n",
       "        ...,\n",
       "        [-0.1299, -0.0685, -0.0358,  ...,  0.0636,  0.9734, -1.0000],\n",
       "        [-0.6466,  0.1432,  0.6966,  ..., -0.4928, -0.1750, -1.0000],\n",
       "        [-0.3057, -0.1427, -0.1181,  ...,  0.0813, -0.2522,  1.0000]],\n",
       "       device='cuda:0')"
      ]
     },
     "execution_count": 18,
     "metadata": {},
     "output_type": "execute_result"
    }
   ],
   "source": [
    "data_s.x"
   ]
  },
  {
   "cell_type": "code",
   "execution_count": 19,
   "metadata": {},
   "outputs": [
    {
     "data": {
      "text/plain": [
       "tensor([[ 0.1343, -0.9539, -0.0328,  ..., -0.6216, -0.1868,  0.9868],\n",
       "        [-0.5876,  0.2317, -0.0391,  ...,  0.1132,  0.4614,  0.9608],\n",
       "        [ 0.3367, -0.2549, -0.4649,  ..., -0.0424,  0.1658,  0.9362],\n",
       "        ...,\n",
       "        [ 0.0384, -0.1890, -0.0940,  ...,  0.0062,  0.3790, -0.9487],\n",
       "        [-0.7156,  0.1374,  0.8338,  ..., -0.4575, -0.1526, -0.9755],\n",
       "        [-0.1906, -0.0803,  0.0962,  ...,  0.0471,  0.3423,  0.9057]],\n",
       "       device='cuda:0', grad_fn=<PreluBackward>)"
      ]
     },
     "execution_count": 19,
     "metadata": {},
     "output_type": "execute_result"
    }
   ],
   "source": [
    "pred = autoencoder(data_s)\n",
    "pred"
   ]
  },
  {
   "cell_type": "code",
   "execution_count": 20,
   "metadata": {},
   "outputs": [
    {
     "data": {
      "text/plain": [
       "tensor([[-8.6217e-02, -7.3003e-02, -8.5722e-02,  ..., -6.8554e-03,\n",
       "         -1.3474e-01, -1.7925e-01],\n",
       "        [-6.1480e-02, -3.6755e-02, -4.9897e-02,  ..., -5.4726e-03,\n",
       "         -7.6463e-02, -1.8100e-01],\n",
       "        [-6.0461e-02, -2.5623e-02, -6.3735e-02,  ...,  1.1007e-01,\n",
       "         -1.4597e-01, -1.4240e-01],\n",
       "        ...,\n",
       "        [-6.4357e-02, -7.6620e-02, -1.1722e-01,  ..., -8.3914e-03,\n",
       "         -1.4592e-01, -1.6510e-01],\n",
       "        [-1.4872e-02, -1.1119e-01, -4.5946e-02,  ..., -2.5080e-02,\n",
       "         -1.9073e-01, -1.7712e-01],\n",
       "        [-1.0001e-02, -3.9724e-02, -7.0741e-02,  ..., -1.9005e-04,\n",
       "         -1.1437e-01, -1.0516e-01]], device='cuda:0', grad_fn=<PreluBackward>)"
      ]
     },
     "execution_count": 20,
     "metadata": {},
     "output_type": "execute_result"
    }
   ],
   "source": [
    "autoencoder.encode(data_s.x, data_s.edge_index, data_s.edge_attr)"
   ]
  },
  {
   "cell_type": "markdown",
   "metadata": {},
   "source": [
    "# Fingerprint Model"
   ]
  },
  {
   "cell_type": "code",
   "execution_count": 21,
   "metadata": {},
   "outputs": [],
   "source": [
    "class EncoderFP(torch.nn.Module):\n",
    "    def __init__(self, enc_out, fp_length):\n",
    "        super(EncoderFP, self).__init__()\n",
    "        self.fp = GCNConv(enc_out, fp_length)\n",
    "        \n",
    "    def forward(self, enc_output, edge_index, edge_weights):\n",
    "        x = F.softmax(self.fp(enc_output, edge_index, edge_weights), dim=1)\n",
    "        return x\n",
    "    \n",
    "class DecoderFP(torch.nn.Module):\n",
    "    def __init__(self, fp_length, enc_out):\n",
    "        super(DecoderFP, self).__init__()\n",
    "        self.conv_out = GCNConv(fp_length, enc_out)\n",
    "        \n",
    "    def forward(self, enc_output, edge_index, edge_weights):\n",
    "        x = self.conv_out(enc_output, edge_index, edge_weights)\n",
    "        x = torch.tanh(x)\n",
    "        return x\n",
    "    \n",
    "class AutoencoderFP(pl.LightningModule):\n",
    "    def __init__(self, encoder, decoder, trained_encoder):\n",
    "        super(AutoencoderFP, self).__init__()\n",
    "        self.encoder = encoder\n",
    "        self.decoder = decoder\n",
    "        self.trained_encoder = trained_encoder\n",
    "        for p in trained_encoder.parameters():\n",
    "            p.requires_grad=False\n",
    "        \n",
    "    def encode(self, *args, **kwargs):\n",
    "        return self.encoder(*args, **kwargs)\n",
    "    \n",
    "    def decode(self, *args, **kwargs):\n",
    "        return self.decoder(*args, **kwargs)\n",
    "    \n",
    "    def forward(self, data):\n",
    "        data = data.to(dev)\n",
    "        encodings = self.trained_encoder(data.x, data.edge_index, data.edge_attr)\n",
    "        z = self.encode(encodings, data.edge_index, data.edge_attr)\n",
    "        return self.decode(z, data.edge_index, data.edge_attr)\n",
    "    \n",
    "    def training_step(self, train_batch, batch_idx):\n",
    "        data_t = train_batch\n",
    "        \n",
    "        encoded = self.trained_encoder(data_t.x, data_t.edge_index, data_t.edge_attr)\n",
    "        reconstructed = self.forward(data_t)\n",
    "\n",
    "        loss = F.mse_loss(encoded, reconstructed)\n",
    "        \n",
    "        logs = {'train_loss' : loss}\n",
    "        \n",
    "        return {'loss': loss, 'log': logs}\n",
    "        \n",
    "    def validation_step(self, val_batch, batch_idx):\n",
    "        data_v = val_batch\n",
    "        encoded = self.trained_encoder(data_v.x, data_v.edge_index, data_v.edge_attr)\n",
    "        reconstructed = self.forward(data_v)\n",
    "        \n",
    "        loss = self.recon_loss(encoded, reconstructed)\n",
    "        \n",
    "        return {'val_loss': loss}\n",
    "    \n",
    "    def validation_epoch_end(self, outputs):\n",
    "      # called at the end of the validation epoch\n",
    "      # outputs is an array with what you returned in validation_step for each batch\n",
    "      # outputs = [{'loss': batch_0_loss}, {'loss': batch_1_loss}, ..., {'loss': batch_n_loss}] \n",
    "    \n",
    "      avg_loss = torch.stack([x['val_loss'] for x in outputs]).mean()\n",
    "      \n",
    "      return {'val_loss': avg_loss,\n",
    "             'progress_bar':{'val_loss': avg_loss}}\n",
    "    \n",
    "    def recon_loss(self, original, reconstructed):\n",
    "        return F.mse_loss(original, reconstructed)\n",
    "    \n",
    "    def prepare_data(self):\n",
    "        self.sn_train = SNDataset(X, prot_dict, shapes_dict)\n",
    "        self.sn_val = SNDataset(val, prot_dict, shapes_dict)\n",
    "    \n",
    "    @pl.data_loader\n",
    "    def train_dataloader(self):\n",
    "        return DataLoader(self.sn_train, batch_size=64, num_workers=12)\n",
    "    \n",
    "    @pl.data_loader\n",
    "    def val_dataloader(self):\n",
    "        return DataLoader(self.sn_val, batch_size=64, num_workers=12)\n",
    "    \n",
    "    def configure_optimizers(self):\n",
    "        optimizer = torch.optim.Adam(self.parameters(), lr=1e-3)\n",
    "        return optimizer"
   ]
  },
  {
   "cell_type": "code",
   "execution_count": 22,
   "metadata": {},
   "outputs": [],
   "source": [
    "encoder_fp = EncoderFP(512, 512).to(dev)\n",
    "decoder_fp = DecoderFP(512, 512).to(dev)\n",
    "\n",
    "autoencoder_fp = AutoencoderFP(encoder_fp, decoder_fp, trained_encoder=encoder).to(dev)"
   ]
  },
  {
   "cell_type": "code",
   "execution_count": 23,
   "metadata": {},
   "outputs": [
    {
     "name": "stderr",
     "output_type": "stream",
     "text": [
      "/home/rootlocus/anaconda3/envs/torch/lib/python3.7/site-packages/pytorch_lightning/utilities/warnings.py:18: UserWarning: Checkpoint directory ../../snac_data/logs_fp/ exists and is not empty with save_top_k != 0.All files in this directory will be deleted when a checkpoint is saved!\n",
      "  warnings.warn(*args, **kwargs)\n",
      "INFO:lightning:GPU available: True, used: True\n",
      "INFO:lightning:VISIBLE GPUS: 0\n",
      "INFO:lightning:\n",
      "  | Name                  | Type      | Params\n",
      "------------------------------------------------\n",
      "0 | encoder               | EncoderFP | 262 K \n",
      "1 | encoder.fp            | GCNConv   | 262 K \n",
      "2 | decoder               | DecoderFP | 262 K \n",
      "3 | decoder.conv_out      | GCNConv   | 262 K \n",
      "4 | trained_encoder       | Encoder   | 197 K \n",
      "5 | trained_encoder.conv1 | GCNConv   | 197 K \n",
      "6 | trained_encoder.act   | PReLU     | 1     \n"
     ]
    },
    {
     "data": {
      "application/vnd.jupyter.widget-view+json": {
       "model_id": "",
       "version_major": 2,
       "version_minor": 0
      },
      "text/plain": [
       "HBox(children=(FloatProgress(value=0.0, description='Validation sanity check', layout=Layout(flex='2'), max=5.…"
      ]
     },
     "metadata": {},
     "output_type": "display_data"
    },
    {
     "name": "stdout",
     "output_type": "stream",
     "text": [
      "\r"
     ]
    },
    {
     "data": {
      "application/vnd.jupyter.widget-view+json": {
       "model_id": "f2ed14987ac04d5b8bd274be8031a8d2",
       "version_major": 2,
       "version_minor": 0
      },
      "text/plain": [
       "HBox(children=(FloatProgress(value=1.0, bar_style='info', layout=Layout(flex='2'), max=1.0), HTML(value='')), …"
      ]
     },
     "metadata": {},
     "output_type": "display_data"
    },
    {
     "name": "stderr",
     "output_type": "stream",
     "text": [
      "/home/rootlocus/anaconda3/envs/torch/lib/python3.7/site-packages/pytorch_lightning/utilities/warnings.py:18: RuntimeWarning: Displayed epoch numbers in the progress bar start from \"1\" until v0.6.x, but will start from \"0\" in v0.8.0.\n",
      "  warnings.warn(*args, **kwargs)\n"
     ]
    },
    {
     "data": {
      "application/vnd.jupyter.widget-view+json": {
       "model_id": "",
       "version_major": 2,
       "version_minor": 0
      },
      "text/plain": [
       "HBox(children=(FloatProgress(value=0.0, description='Validating', layout=Layout(flex='2'), max=157.0, style=Pr…"
      ]
     },
     "metadata": {},
     "output_type": "display_data"
    },
    {
     "name": "stderr",
     "output_type": "stream",
     "text": [
      "INFO:lightning:\n",
      "Epoch 00000: val_loss reached 0.03602 (best 0.03602), saving model to ../../snac_data/logs_fp/epoch=0_v0.ckpt as top True\n"
     ]
    },
    {
     "data": {
      "application/vnd.jupyter.widget-view+json": {
       "model_id": "",
       "version_major": 2,
       "version_minor": 0
      },
      "text/plain": [
       "HBox(children=(FloatProgress(value=0.0, description='Validating', layout=Layout(flex='2'), max=157.0, style=Pr…"
      ]
     },
     "metadata": {},
     "output_type": "display_data"
    },
    {
     "name": "stderr",
     "output_type": "stream",
     "text": [
      "INFO:lightning:\n",
      "Epoch 00001: val_loss reached 0.03369 (best 0.03369), saving model to ../../snac_data/logs_fp/epoch=1.ckpt as top True\n"
     ]
    },
    {
     "data": {
      "application/vnd.jupyter.widget-view+json": {
       "model_id": "",
       "version_major": 2,
       "version_minor": 0
      },
      "text/plain": [
       "HBox(children=(FloatProgress(value=0.0, description='Validating', layout=Layout(flex='2'), max=157.0, style=Pr…"
      ]
     },
     "metadata": {},
     "output_type": "display_data"
    },
    {
     "name": "stderr",
     "output_type": "stream",
     "text": [
      "INFO:lightning:\n",
      "Epoch 00002: val_loss reached 0.03249 (best 0.03249), saving model to ../../snac_data/logs_fp/epoch=2.ckpt as top True\n"
     ]
    },
    {
     "data": {
      "application/vnd.jupyter.widget-view+json": {
       "model_id": "",
       "version_major": 2,
       "version_minor": 0
      },
      "text/plain": [
       "HBox(children=(FloatProgress(value=0.0, description='Validating', layout=Layout(flex='2'), max=157.0, style=Pr…"
      ]
     },
     "metadata": {},
     "output_type": "display_data"
    },
    {
     "name": "stderr",
     "output_type": "stream",
     "text": [
      "INFO:lightning:\n",
      "Epoch 00003: val_loss reached 0.03163 (best 0.03163), saving model to ../../snac_data/logs_fp/epoch=3.ckpt as top True\n"
     ]
    },
    {
     "data": {
      "application/vnd.jupyter.widget-view+json": {
       "model_id": "",
       "version_major": 2,
       "version_minor": 0
      },
      "text/plain": [
       "HBox(children=(FloatProgress(value=0.0, description='Validating', layout=Layout(flex='2'), max=157.0, style=Pr…"
      ]
     },
     "metadata": {},
     "output_type": "display_data"
    },
    {
     "name": "stderr",
     "output_type": "stream",
     "text": [
      "INFO:lightning:\n",
      "Epoch 00004: val_loss reached 0.03097 (best 0.03097), saving model to ../../snac_data/logs_fp/epoch=4_v0.ckpt as top True\n"
     ]
    },
    {
     "name": "stdout",
     "output_type": "stream",
     "text": [
      "\n"
     ]
    },
    {
     "data": {
      "text/plain": [
       "1"
      ]
     },
     "execution_count": 23,
     "metadata": {},
     "output_type": "execute_result"
    }
   ],
   "source": [
    "checkpoint_callbacks_fp = ModelCheckpoint(\n",
    "    filepath='../../snac_data/logs_fp/',\n",
    "    save_top_k=True,\n",
    "    verbose=True,\n",
    "    monitor='val_loss',\n",
    "    mode='min',\n",
    "    prefix=''\n",
    ")\n",
    "\n",
    "trainer_2 = pl.Trainer(gpus=1, max_epochs=5, early_stop_callback=early_stop_callback,\n",
    "                       checkpoint_callback=checkpoint_callbacks_fp, logger=False)\n",
    "trainer_2.fit(autoencoder_fp)"
   ]
  },
  {
   "cell_type": "code",
   "execution_count": 29,
   "metadata": {},
   "outputs": [
    {
     "data": {
      "text/plain": [
       "tensor([[-0.0988, -0.0704, -0.0546,  ..., -0.0131, -0.1275, -0.2160],\n",
       "        [-0.0923, -0.0413, -0.0604,  ..., -0.0015, -0.0666, -0.1607],\n",
       "        [-0.0309, -0.0343, -0.0200,  ..., -0.0016, -0.1002, -0.1865],\n",
       "        ...,\n",
       "        [-0.1205, -0.0246, -0.0661,  ...,  0.4881, -0.0769, -0.2001],\n",
       "        [-0.1008, -0.0457, -0.0690,  ..., -0.0197, -0.0978, -0.2619],\n",
       "        [-0.0319, -0.0131, -0.0258,  ..., -0.0056, -0.1148, -0.1201]],\n",
       "       device='cuda:0')"
      ]
     },
     "execution_count": 29,
     "metadata": {},
     "output_type": "execute_result"
    }
   ],
   "source": [
    "autoencoder.eval()\n",
    "encs = autoencoder.encode(data_s.x, data_s.edge_index, data_s.edge_attr)\n",
    "encs"
   ]
  },
  {
   "cell_type": "code",
   "execution_count": 30,
   "metadata": {},
   "outputs": [
    {
     "data": {
      "text/plain": [
       "tensor([[3.8857e-07, 2.6605e-05, 4.9675e-07,  ..., 4.5456e-07, 7.4192e-07,\n",
       "         7.9998e-07],\n",
       "        [2.2048e-06, 2.6888e-05, 2.4116e-06,  ..., 4.6570e-06, 2.1651e-06,\n",
       "         2.8762e-06],\n",
       "        [1.8126e-07, 2.3796e-06, 1.8162e-07,  ..., 8.2836e-07, 1.1599e-07,\n",
       "         2.2795e-07],\n",
       "        ...,\n",
       "        [5.2565e-08, 1.3633e-03, 2.3902e-08,  ..., 1.0027e-08, 2.4667e-08,\n",
       "         8.1155e-08],\n",
       "        [1.8869e-08, 3.7563e-06, 2.0010e-08,  ..., 2.0223e-08, 2.6148e-08,\n",
       "         3.6119e-08],\n",
       "        [4.1280e-06, 1.1718e-03, 4.6064e-06,  ..., 3.6979e-06, 3.5431e-06,\n",
       "         4.3538e-06]], device='cuda:0', grad_fn=<SoftmaxBackward>)"
      ]
     },
     "execution_count": 30,
     "metadata": {},
     "output_type": "execute_result"
    }
   ],
   "source": [
    "autoencoder_fp.eval()\n",
    "autoencoder_fp.encoder(encs, data_s.edge_index, data_s.edge_attr)"
   ]
  },
  {
   "cell_type": "code",
   "execution_count": 31,
   "metadata": {},
   "outputs": [
    {
     "data": {
      "text/plain": [
       "tensor([[-0.1308, -0.0633, -0.0335,  ..., -0.0309, -0.1474, -0.1980],\n",
       "        [-0.0765, -0.0036, -0.0709,  ...,  0.0998, -0.0758, -0.1260],\n",
       "        [-0.0228, -0.0327, -0.0452,  ...,  0.0897, -0.1005, -0.1532],\n",
       "        ...,\n",
       "        [-0.0789, -0.0172, -0.0032,  ...,  0.1067, -0.0973, -0.1466],\n",
       "        [-0.1447, -0.0593, -0.0640,  ..., -0.0187, -0.1112, -0.2477],\n",
       "        [-0.0761,  0.0039,  0.0051,  ...,  0.1217, -0.1185, -0.0985]],\n",
       "       device='cuda:0', grad_fn=<TanhBackward>)"
      ]
     },
     "execution_count": 31,
     "metadata": {},
     "output_type": "execute_result"
    }
   ],
   "source": [
    "autoencoder_fp(data_s)"
   ]
  },
  {
   "cell_type": "code",
   "execution_count": 32,
   "metadata": {},
   "outputs": [
    {
     "data": {
      "text/plain": [
       "(8000,)"
      ]
     },
     "execution_count": 32,
     "metadata": {},
     "output_type": "execute_result"
    }
   ],
   "source": [
    "gelda = finfo.groupby('pert_iname').get_group('geldanamycin').files_combined.to_numpy()\n",
    "siro = finfo.groupby('pert_iname').get_group('sirolimus').files_combined.to_numpy()\n",
    "rottlerin = finfo.groupby('pert_iname').get_group('rottlerin').files_combined.to_numpy()\n",
    "hydroflu = finfo.groupby('pert_iname').get_group('hydroflumethiazide').files_combined.to_numpy()\n",
    "tricho = finfo.groupby('pert_iname').get_group('trichostatin-a').files_combined.to_numpy()\n",
    "iloprost = finfo.groupby('pert_iname').get_group('iloprost').files_combined.to_numpy()\n",
    "perhexiline = finfo.groupby('pert_iname').get_group('perhexiline').files_combined.to_numpy()\n",
    "cucurbitacin = finfo.groupby('pert_iname').get_group('cucurbitacin-i').files_combined.to_numpy()\n",
    "\n",
    "gelda_paths = np.random.choice(gelda, 1000)\n",
    "siro_paths = np.random.choice(siro, 1000)\n",
    "rott_paths = np.random.choice(rottlerin, 1000)\n",
    "hydro_paths = np.random.choice(hydroflu, 1000)\n",
    "tricho_paths = np.random.choice(tricho, 1000)\n",
    "ilo_paths = np.random.choice(iloprost, 1000)\n",
    "perhex_paths = np.random.choice(perhexiline, 1000)\n",
    "cucurb_paths = np.random.choice(cucurbitacin, 1000)\n",
    "\n",
    "tot = np.concatenate((gelda_paths, siro_paths, rott_paths, hydro_paths, tricho_paths, \n",
    "                      ilo_paths, perhex_paths, cucurb_paths))\n",
    "labels = ['gelda','siro']\n",
    "y = np.concatenate((1000*['geldanamycin'], 1000*['sirolimus'], 1000*['rottlerin'], 1000*['hydroflumethiazide'],\n",
    "                   1000*['trichostatin-a'], 1000*['iloprost'], 1000*['perhexiline'], 1000*['cucurbitacin-i']))\n",
    "y.shape"
   ]
  },
  {
   "cell_type": "code",
   "execution_count": 33,
   "metadata": {},
   "outputs": [
    {
     "data": {
      "application/vnd.jupyter.widget-view+json": {
       "model_id": "2f7846b360e343d0b052c45e54dfd910",
       "version_major": 2,
       "version_minor": 0
      },
      "text/plain": [
       "HBox(children=(FloatProgress(value=0.0, max=8000.0), HTML(value='')))"
      ]
     },
     "metadata": {},
     "output_type": "display_data"
    },
    {
     "name": "stdout",
     "output_type": "stream",
     "text": [
      "\n"
     ]
    }
   ],
   "source": [
    "drug_soft = np.zeros((len(tot), 512))\n",
    "autoencoder.eval()\n",
    "autoencoder_fp.eval()\n",
    "\n",
    "idx = 0\n",
    "\n",
    "for sample in tqdm(tot):\n",
    "    edge_index, x, edge_feats = csv2edge(sample, prot_dict, shapes_dict)\n",
    "    data_s= Data(edge_index=edge_index, x=x, edge_attr=edge_feats).to(dev)\n",
    "    \n",
    "    enc = autoencoder.encode(data_s.x, data_s.edge_index, data_s.edge_attr)\n",
    "    enc_fp = autoencoder_fp.encode(enc, data_s.edge_index, data_s.edge_attr)\n",
    "    graph_fp = torch.mean(enc_fp, axis=0).tolist()\n",
    "    drug_soft[idx] = graph_fp\n",
    "    \n",
    "    idx += 1"
   ]
  },
  {
   "cell_type": "code",
   "execution_count": null,
   "metadata": {},
   "outputs": [],
   "source": [
    "encodings = np.zeros((len(list(samples)), 512))\n",
    "autoencoder.eval()\n",
    "autoencoder_fp.eval()\n",
    "idx = 0\n",
    "\n",
    "for sample in tqdm(list(samples)):\n",
    "    edge_index, x, edge_feats = csv2edge(sample, prot_dict, shapes_dict)\n",
    "    data_s= Data(edge_index=edge_index, x=x, edge_attr=edge_feats).to(dev)\n",
    "    \n",
    "    enc = autoencoder.encode(data_s.x, data_s.edge_index, data_s.edge_attr)\n",
    "    enc_fp = autoencoder_fp.encode(enc, data_s.edge_index, data_s.edge_attr)\n",
    "    graph_fp = torch.mean(enc_fp, axis=0).tolist()\n",
    "    encodings[idx] = graph_fp\n",
    "    \n",
    "    idx += 1\n",
    "    \n",
    "enc_dict = {}\n",
    "for name, enc in zip(list(samples), encodings):\n",
    "    enc_dict[name] = enc\n",
    "    \n",
    "with open('../../snac_data/sample_embeddings_dict_cw_512_fp_512.pkl', 'wb') as f:\n",
    "    pickle.dump(enc_dict, f)"
   ]
  },
  {
   "cell_type": "markdown",
   "metadata": {},
   "source": [
    "# TSNE"
   ]
  },
  {
   "cell_type": "code",
   "execution_count": 34,
   "metadata": {},
   "outputs": [],
   "source": [
    "from sklearn.manifold import TSNE\n",
    "import seaborn as sns\n",
    "import matplotlib.pyplot as plt\n",
    "import umap\n",
    "sns.set()"
   ]
  },
  {
   "cell_type": "code",
   "execution_count": null,
   "metadata": {},
   "outputs": [],
   "source": [
    "X = TSNE(n_components=2, n_iter=2000, verbose=1, random_state=0, ).fit_transform(drug_soft)"
   ]
  },
  {
   "cell_type": "code",
   "execution_count": 42,
   "metadata": {},
   "outputs": [],
   "source": [
    "embeddings = umap.UMAP(n_neighbors=100, min_dist=0.99, random_state=42).fit_transform(drug_soft)"
   ]
  },
  {
   "cell_type": "code",
   "execution_count": 43,
   "metadata": {},
   "outputs": [
    {
     "data": {
      "image/png": "[encoded data removed]",
      "text/plain": [
       "<Figure size 720x720 with 1 Axes>"
      ]
     },
     "metadata": {
      "needs_background": "light"
     },
     "output_type": "display_data"
    }
   ],
   "source": [
    "%matplotlib inline\n",
    "plt.figure(figsize=(10,10))\n",
    "sns.scatterplot(embeddings[:, 0], embeddings[:, 1], hue=y)\n",
    "plt.savefig('fp_clustering.jpg')\n",
    "plt.show()"
   ]
  },
  {
   "cell_type": "code",
   "execution_count": null,
   "metadata": {},
   "outputs": [],
   "source": []
  }
 ],
 "metadata": {
  "kernelspec": {
   "display_name": "Python 3",
   "language": "python",
   "name": "python3"
  },
  "language_info": {
   "codemirror_mode": {
    "name": "ipython",
    "version": 3
   },
   "file_extension": ".py",
   "mimetype": "text/x-python",
   "name": "python",
   "nbconvert_exporter": "python",
   "pygments_lexer": "ipython3",
   "version": "3.7.1"
  }
 },
 "nbformat": 4,
 "nbformat_minor": 4
}
